{
 "cells": [
  {
   "cell_type": "markdown",
   "id": "e9583ddb-b6d2-4cc4-8395-3d43e5b55387",
   "metadata": {},
   "source": [
    "<div class=\"alert alert-block alert-warning\">\n",
    "<b>Costs:</b> This QPU simulation costs depending on the AWS resource you choose:\n",
    "<table style=\"text-align: left;\">\n",
    "  <thead>\n",
    "    <tr>\n",
    "      <th>Device Name</th>\n",
    "      <th>Type</th>\n",
    "      <th>Cost</th>\n",
    "    </tr>\n",
    "  </thead>\n",
    "  <tbody>\n",
    "    <tr>\n",
    "      <td>Ankaa-3</td>\n",
    "      <td>QPU</td>\n",
    "      <td>X.XX</td>\n",
    "    </tr>\n",
    "    <tr>\n",
    "      <td>Aquila</td>\n",
    "      <td>QPU</td>\n",
    "      <td>Y.YY</td>\n",
    "    </tr>\n",
    "    <tr>\n",
    "      <td>Aria 1</td>\n",
    "      <td>QPU</td>\n",
    "      <td>Z.ZZ</td>\n",
    "    </tr>\n",
    "    <tr>\n",
    "      <td>Aria 2</td>\n",
    "      <td>QPU</td>\n",
    "      <td>W.WW</td>\n",
    "    </tr>\n",
    "    <tr>\n",
    "      <td>Forte 1</td>\n",
    "      <td>QPU</td>\n",
    "      <td>V.VV</td>\n",
    "    </tr>\n",
    "    <tr>\n",
    "      <td>Garnet</td>\n",
    "      <td>QPU</td>\n",
    "      <td>U.UU</td>\n",
    "    </tr>\n",
    "    <tr>\n",
    "      <td>SV1</td>\n",
    "      <td>SIMULATOR</td>\n",
    "      <td>0.00</td>\n",
    "    </tr>\n",
    "    <tr>\n",
    "      <td>TN1</td>\n",
    "      <td>SIMULATOR</td>\n",
    "      <td>0.00</td>\n",
    "    </tr>\n",
    "    <tr>\n",
    "      <td>dm1</td>\n",
    "      <td>SIMULATOR</td>\n",
    "      <td>0.00</td>\n",
    "    </tr>\n",
    "  </tbody>\n",
    "</table>\n",
    "</div>\n"
   ]
  },
  {
   "cell_type": "markdown",
   "id": "391241b4-656e-449c-8963-e068091cbd42",
   "metadata": {},
   "source": [
    "<div class=\"alert alert-block alert-success\">\n",
    "<b>This simulation applies the Zero-Noise Extrapolation (ZNE) method to mitigate noise in quantum circuits.</b>\n",
    "<div>Obs. 1: The data is saved in external files so that it can be worked on without incurring new costs.</div>\n",
    "<div>Obs. 2: For new simulation parameters, save in a file with a different name.</div>\n"
   ]
  },
  {
   "cell_type": "markdown",
   "id": "9ad08311-9339-41a3-87ed-452e86090d34",
   "metadata": {},
   "source": [
    "# Instructions if you are running outside AWS cloud\n",
    "\n",
    "1. Install aws-cli:\n",
    "\n",
    "`sudo apt install aws-cli`\n",
    "\n",
    "2. Setup aws credentials:\n",
    "\n",
    "`aws configure --profile \"default\"`\n",
    "\n",
    "3. Create virtual environment \n",
    "\n",
    "`python -m venv /path/to/new/virtual/environment`\n",
    "\n",
    "4. Activate virtual environment\n",
    "\n",
    "`source /path/to/new/virtual/environment/bin/activate`"
   ]
  },
  {
   "cell_type": "code",
   "execution_count": null,
   "id": "fd575fea-46ed-4df3-b514-f28c3bf4e27e",
   "metadata": {},
   "outputs": [],
   "source": [
    "# Install all required modules on your virtual environment\n",
    "!pip install -r requirements.txt"
   ]
  },
  {
   "cell_type": "markdown",
   "id": "a536e74f-eb37-4636-9592-0d83073dfd6e",
   "metadata": {},
   "source": [
    "# Importing Availavle Backends - Quantum Computers and Simulators"
   ]
  },
  {
   "cell_type": "code",
   "execution_count": null,
   "id": "c9cba7e5-afcb-448a-a2ee-bc19fefdbe66",
   "metadata": {},
   "outputs": [],
   "source": [
    "from braket.aws import AwsDevice\n",
    "\n",
    "# Recupera os dispositivos disponíveis\n",
    "devices = AwsDevice.get_devices()\n",
    "\n",
    "print(\"Dispositivos disponíveis na AWS Braket:\")\n",
    "for idx, device in enumerate(devices):\n",
    "    print(f\"{idx}: Nome: {device.name}, Tipo: {device.type}, ARN: {device.arn}\")"
   ]
  },
  {
   "cell_type": "code",
   "execution_count": null,
   "id": "78dc0ecb-8ef7-4187-9ab3-d51e603471fd",
   "metadata": {},
   "outputs": [],
   "source": [
    "# Selecionar um dispositivo pelo índice da lista\n",
    "device_index = int(input(\"Selecione o índice do dispositivo desejado: \"))\n",
    "selected_device = devices[device_index]\n",
    "\n",
    "print(f\"Dispositivo selecionado: {selected_device.name}, ARN: {selected_device.arn}\")"
   ]
  },
  {
   "cell_type": "markdown",
   "id": "05caea83-c3b3-4b32-8722-52c418b55edc",
   "metadata": {},
   "source": [
    "## All set! Starting Simulation..."
   ]
  }
 ],
 "metadata": {
  "kernelspec": {
   "display_name": "Python-venv",
   "language": "python",
   "name": "python-venv"
  },
  "language_info": {
   "codemirror_mode": {
    "name": "ipython",
    "version": 3
   },
   "file_extension": ".py",
   "mimetype": "text/x-python",
   "name": "python",
   "nbconvert_exporter": "python",
   "pygments_lexer": "ipython3",
   "version": "3.13.1"
  }
 },
 "nbformat": 4,
 "nbformat_minor": 5
}
