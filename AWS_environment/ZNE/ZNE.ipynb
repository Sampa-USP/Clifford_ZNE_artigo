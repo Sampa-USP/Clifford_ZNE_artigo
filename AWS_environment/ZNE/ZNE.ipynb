{
 "cells": [
  {
   "cell_type": "markdown",
   "id": "e9583ddb-b6d2-4cc4-8395-3d43e5b55387",
   "metadata": {},
   "source": [
    "<div class=\"alert alert-block alert-warning\">\n",
    "<b>Costs:</b> This QPU simulation costs [???] dollars.\n",
    "</div>"
   ]
  },
  {
   "cell_type": "markdown",
   "id": "391241b4-656e-449c-8963-e068091cbd42",
   "metadata": {},
   "source": [
    "<div class=\"alert alert-block alert-success\">\n",
    "<b>This simulation applies the Zero-Noise Extrapolation (ZNE) method to mitigate noise in quantum circuits.</b>\n",
    "<div>Obs. 1: The data is saved in external files so that it can be worked on without incurring new costs.</div>\n",
    "<div>Obs. 2: For new simulation parameters, save in a file with a different name.</div>\n"
   ]
  },
  {
   "cell_type": "code",
   "execution_count": null,
   "id": "b3aeb2a7-08fb-4d29-9249-713e7f1f1fa7",
   "metadata": {},
   "outputs": [],
   "source": []
  }
 ],
 "metadata": {
  "kernelspec": {
   "display_name": "Python-venv",
   "language": "python",
   "name": "python-venv"
  },
  "language_info": {
   "codemirror_mode": {
    "name": "ipython",
    "version": 3
   },
   "file_extension": ".py",
   "mimetype": "text/x-python",
   "name": "python",
   "nbconvert_exporter": "python",
   "pygments_lexer": "ipython3",
   "version": "3.13.1"
  }
 },
 "nbformat": 4,
 "nbformat_minor": 5
}
