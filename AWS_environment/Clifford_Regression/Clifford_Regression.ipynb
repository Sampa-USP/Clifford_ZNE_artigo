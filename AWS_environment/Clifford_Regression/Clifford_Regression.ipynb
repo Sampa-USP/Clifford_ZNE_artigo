{
 "cells": [
  {
   "cell_type": "markdown",
   "id": "12ae284a-1c94-4a89-93b3-9f99e43320f1",
   "metadata": {},
   "source": [
    "<div class=\"alert alert-block alert-warning\">\n",
    "<b>Costs:</b> This QPU simulation costs depending on the AWS resource you choose:\n",
    "<table style=\"text-align: left;\">\n",
    "  <thead>\n",
    "    <tr>\n",
    "      <th>Device Name</th>\n",
    "      <th>Type</th>\n",
    "      <th>Cost</th>\n",
    "    </tr>\n",
    "  </thead>\n",
    "  <tbody>\n",
    "    <tr>\n",
    "      <td>Ankaa-3</td>\n",
    "      <td>QPU</td>\n",
    "      <td>X.XX</td>\n",
    "    </tr>\n",
    "    <tr>\n",
    "      <td>Aquila</td>\n",
    "      <td>QPU</td>\n",
    "      <td>Y.YY</td>\n",
    "    </tr>\n",
    "    <tr>\n",
    "      <td>Aria 1</td>\n",
    "      <td>QPU</td>\n",
    "      <td>Z.ZZ</td>\n",
    "    </tr>\n",
    "    <tr>\n",
    "      <td>Aria 2</td>\n",
    "      <td>QPU</td>\n",
    "      <td>W.WW</td>\n",
    "    </tr>\n",
    "    <tr>\n",
    "      <td>Forte 1</td>\n",
    "      <td>QPU</td>\n",
    "      <td>V.VV</td>\n",
    "    </tr>\n",
    "    <tr>\n",
    "      <td>Garnet</td>\n",
    "      <td>QPU</td>\n",
    "      <td>U.UU</td>\n",
    "    </tr>\n",
    "    <tr>\n",
    "      <td>SV1</td>\n",
    "      <td>SIMULATOR</td>\n",
    "      <td>0.00</td>\n",
    "    </tr>\n",
    "    <tr>\n",
    "      <td>TN1</td>\n",
    "      <td>SIMULATOR</td>\n",
    "      <td>0.00</td>\n",
    "    </tr>\n",
    "    <tr>\n",
    "      <td>dm1</td>\n",
    "      <td>SIMULATOR</td>\n",
    "      <td>0.00</td>\n",
    "    </tr>\n",
    "  </tbody>\n",
    "</table>\n",
    "</div>\n"
   ]
  },
  {
   "cell_type": "markdown",
   "id": "08bd59b4-71d8-4e48-bf6b-47189b8c544a",
   "metadata": {},
   "source": [
    "<div class=\"alert alert-block alert-success\">\n",
    "<b>This simulation applies the Clifford Regression (CR) method to mitigate noise in quantum circuits.</b>\n",
    "<div>Obs. 1: The data is saved in external files so that it can be worked on without incurring new costs.</div>\n",
    "<div>Obs. 2: For new simulation parameters, save in a file with a different name.</div>"
   ]
  },
  {
   "cell_type": "markdown",
   "id": "82ec53ca-e3fa-47a1-a61b-7c84d1b8e98a",
   "metadata": {},
   "source": [
    "# Instructions if you are running outside AWS cloud\n",
    "\n",
    "1. Install aws-cli:\n",
    "\n",
    "`sudo apt install aws-cli`\n",
    "\n",
    "2. Setup aws credentials:\n",
    "\n",
    "`aws configure --profile \"default\"`\n",
    "\n",
    "3. Create virtual environment \n",
    "\n",
    "`python -m venv /path/to/new/virtual/environment`\n",
    "\n",
    "4. Activate virtual environment\n",
    "\n",
    "`source /path/to/new/virtual/environment/bin/activate`"
   ]
  },
  {
   "cell_type": "code",
   "execution_count": null,
   "id": "1e7a5cec-9694-4e44-a434-110c05363e12",
   "metadata": {},
   "outputs": [],
   "source": [
    "# Install all required modules on your virtual environment\n",
    "!pip install -r requirements.txt\n",
    "\n",
    "# Para atualizar o arquivo requirements.txt após instalar novas bibliotecas, executar:\n",
    "#!pip freeze > requirements.txt"
   ]
  },
  {
   "cell_type": "markdown",
   "id": "2ab40d23-f111-413f-8e72-77d4680e9671",
   "metadata": {},
   "source": [
    "# Importing Availavle Backends - Quantum Computers and Simulators"
   ]
  },
  {
   "cell_type": "code",
   "execution_count": null,
   "id": "ddb97a1e-0882-410a-91c5-9e4878919eba",
   "metadata": {},
   "outputs": [],
   "source": [
    "from braket.aws import AwsDevice\n",
    "\n",
    "# Recupera os dispositivos disponíveis\n",
    "devices = AwsDevice.get_devices()\n",
    "\n",
    "print(\"Dispositivos disponíveis na AWS Braket:\")\n",
    "for idx, device in enumerate(devices):\n",
    "    print(f\"{idx}: Nome: {device.name}, Tipo: {device.type}, ARN: {device.arn}\")"
   ]
  },
  {
   "cell_type": "code",
   "execution_count": null,
   "id": "b94673ec-651f-4b13-acf7-4a2aeca6ff68",
   "metadata": {},
   "outputs": [],
   "source": [
    "# Selecionar um dispositivo pelo índice da lista\n",
    "device_index = int(input(\"Selecione o índice do dispositivo desejado: \"))\n",
    "selected_device = devices[device_index]\n",
    "\n",
    "print(f\"Dispositivo selecionado: {selected_device.name}, ARN: {selected_device.arn}\")"
   ]
  },
  {
   "cell_type": "markdown",
   "id": "03b20ccd-ed8f-47c4-b880-175ce1b0d635",
   "metadata": {},
   "source": [
    "## All set! Starting Simulation..."
   ]
  },
  {
   "cell_type": "code",
   "execution_count": 9,
   "id": "f6ebd43d-5935-4f3d-96f4-e587263b8b8c",
   "metadata": {},
   "outputs": [],
   "source": [
    "\n"
   ]
  },
  {
   "cell_type": "code",
   "execution_count": null,
   "id": "369a8347-8c95-46cb-84c3-28319023bd79",
   "metadata": {},
   "outputs": [],
   "source": []
  }
 ],
 "metadata": {
  "kernelspec": {
   "display_name": "Python-venv",
   "language": "python",
   "name": "python-venv"
  },
  "language_info": {
   "codemirror_mode": {
    "name": "ipython",
    "version": 3
   },
   "file_extension": ".py",
   "mimetype": "text/x-python",
   "name": "python",
   "nbconvert_exporter": "python",
   "pygments_lexer": "ipython3",
   "version": "3.13.1"
  }
 },
 "nbformat": 4,
 "nbformat_minor": 5
}
