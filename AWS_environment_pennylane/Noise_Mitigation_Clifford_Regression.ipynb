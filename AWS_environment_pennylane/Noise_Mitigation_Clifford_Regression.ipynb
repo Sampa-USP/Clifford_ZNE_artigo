{
 "cells": [
  {
   "cell_type": "markdown",
   "id": "12ae284a-1c94-4a89-93b3-9f99e43320f1",
   "metadata": {},
   "source": [
    "<div class=\"alert alert-block alert-warning\">\n",
    "<b>Costs:</b> This QPU simulation costs depending on the AWS resource you choose:\n",
    "<table style=\"text-align: left;\">\n",
    "  <thead>\n",
    "    <tr>\n",
    "      <th>Device Name</th>\n",
    "      <th>Type</th>\n",
    "      <th>Cost</th>\n",
    "    </tr>\n",
    "  </thead>\n",
    "  <tbody>\n",
    "    <tr>\n",
    "      <td>Ankaa-3</td>\n",
    "      <td>QPU</td>\n",
    "      <td>X.XX</td>\n",
    "    </tr>\n",
    "    <tr>\n",
    "      <td>Aquila</td>\n",
    "      <td>QPU</td>\n",
    "      <td>Y.YY</td>\n",
    "    </tr>\n",
    "    <tr>\n",
    "      <td>Aria 1</td>\n",
    "      <td>QPU</td>\n",
    "      <td>Z.ZZ</td>\n",
    "    </tr>\n",
    "    <tr>\n",
    "      <td>Aria 2</td>\n",
    "      <td>QPU</td>\n",
    "      <td>W.WW</td>\n",
    "    </tr>\n",
    "    <tr>\n",
    "      <td>Forte 1</td>\n",
    "      <td>QPU</td>\n",
    "      <td>V.VV</td>\n",
    "    </tr>\n",
    "    <tr>\n",
    "      <td>Garnet</td>\n",
    "      <td>QPU</td>\n",
    "      <td>U.UU</td>\n",
    "    </tr>\n",
    "    <tr>\n",
    "      <td>SV1</td>\n",
    "      <td>SIMULATOR</td>\n",
    "      <td>0.00</td>\n",
    "    </tr>\n",
    "    <tr>\n",
    "      <td>TN1</td>\n",
    "      <td>SIMULATOR</td>\n",
    "      <td>0.00</td>\n",
    "    </tr>\n",
    "    <tr>\n",
    "      <td>dm1</td>\n",
    "      <td>SIMULATOR</td>\n",
    "      <td>0.00</td>\n",
    "    </tr>\n",
    "  </tbody>\n",
    "</table>\n",
    "</div>\n"
   ]
  },
  {
   "cell_type": "markdown",
   "id": "08bd59b4-71d8-4e48-bf6b-47189b8c544a",
   "metadata": {},
   "source": [
    "<div class=\"alert alert-block alert-success\">\n",
    "<b>This simulation applies the Clifford Regression (CR) method to mitigate noise in quantum circuits.</b>\n",
    "<div>Obs. 1: The data is saved in external files so that it can be worked on without incurring new costs.</div>\n",
    "<div>Obs. 2: For new simulation parameters, save in a file with a different name.</div>"
   ]
  },
  {
   "cell_type": "markdown",
   "id": "82ec53ca-e3fa-47a1-a61b-7c84d1b8e98a",
   "metadata": {
    "jp-MarkdownHeadingCollapsed": true
   },
   "source": [
    "# Instructions if you are running outside AWS cloud\n",
    "\n",
    "1. Install aws-cli:\n",
    "\n",
    "`sudo apt install aws-cli`\n",
    "\n",
    "2. Setup aws credentials:\n",
    "\n",
    "`aws configure --profile \"default\"`\n",
    "\n",
    "3. Create virtual environment \n",
    "\n",
    "`python -m venv /path/to/new/virtual/environment`\n",
    "\n",
    "4. Activate virtual environment\n",
    "\n",
    "`source /path/to/new/virtual/environment/bin/activate`"
   ]
  },
  {
   "cell_type": "code",
   "execution_count": null,
   "id": "1e7a5cec-9694-4e44-a434-110c05363e12",
   "metadata": {},
   "outputs": [],
   "source": [
    "# Install all required modules on your virtual environment\n",
    "!pip install -r requirements.txt\n",
    "\n",
    "# Para atualizar o arquivo requirements.txt após instalar novas bibliotecas, executar:\n",
    "#!pip freeze > requirements.txt"
   ]
  },
  {
   "cell_type": "markdown",
   "id": "2ab40d23-f111-413f-8e72-77d4680e9671",
   "metadata": {},
   "source": [
    "# Importing Available Backends - Quantum Computers and Simulators"
   ]
  },
  {
   "cell_type": "code",
   "execution_count": 7,
   "id": "ddb97a1e-0882-410a-91c5-9e4878919eba",
   "metadata": {},
   "outputs": [
    {
     "name": "stdout",
     "output_type": "stream",
     "text": [
      "Dispositivos disponíveis na AWS Braket:\n",
      "0: Nome: Ankaa-3, Tipo: AwsDeviceType.QPU, ARN: arn:aws:braket:us-west-1::device/qpu/rigetti/Ankaa-3\n",
      "1: Nome: Aquila, Tipo: AwsDeviceType.QPU, ARN: arn:aws:braket:us-east-1::device/qpu/quera/Aquila\n",
      "2: Nome: Aria 1, Tipo: AwsDeviceType.QPU, ARN: arn:aws:braket:us-east-1::device/qpu/ionq/Aria-1\n",
      "3: Nome: Aria 2, Tipo: AwsDeviceType.QPU, ARN: arn:aws:braket:us-east-1::device/qpu/ionq/Aria-2\n",
      "4: Nome: Forte 1, Tipo: AwsDeviceType.QPU, ARN: arn:aws:braket:us-east-1::device/qpu/ionq/Forte-1\n",
      "5: Nome: Garnet, Tipo: AwsDeviceType.QPU, ARN: arn:aws:braket:eu-north-1::device/qpu/iqm/Garnet\n",
      "6: Nome: SV1, Tipo: AwsDeviceType.SIMULATOR, ARN: arn:aws:braket:::device/quantum-simulator/amazon/sv1\n",
      "7: Nome: TN1, Tipo: AwsDeviceType.SIMULATOR, ARN: arn:aws:braket:::device/quantum-simulator/amazon/tn1\n",
      "8: Nome: dm1, Tipo: AwsDeviceType.SIMULATOR, ARN: arn:aws:braket:::device/quantum-simulator/amazon/dm1\n"
     ]
    }
   ],
   "source": [
    "from braket.aws import AwsDevice\n",
    "\n",
    "# Recupera os dispositivos disponíveis\n",
    "devices = AwsDevice.get_devices()\n",
    "\n",
    "print(\"Dispositivos disponíveis na AWS Braket:\")\n",
    "for idx, device in enumerate(devices):\n",
    "    print(f\"{idx}: Nome: {device.name}, Tipo: {device.type}, ARN: {device.arn}\")"
   ]
  },
  {
   "cell_type": "code",
   "execution_count": 8,
   "id": "b94673ec-651f-4b13-acf7-4a2aeca6ff68",
   "metadata": {},
   "outputs": [
    {
     "name": "stdin",
     "output_type": "stream",
     "text": [
      "Selecione o índice do dispositivo desejado:  6\n"
     ]
    },
    {
     "name": "stdout",
     "output_type": "stream",
     "text": [
      "Dispositivo selecionado: SV1, ARN: arn:aws:braket:::device/quantum-simulator/amazon/sv1\n"
     ]
    }
   ],
   "source": [
    "# Selecionar um dispositivo pelo índice da lista\n",
    "device_index = int(input(\"Selecione o índice do dispositivo desejado: \"))\n",
    "selected_device = devices[device_index]\n",
    "\n",
    "print(f\"Dispositivo selecionado: {selected_device.name}, ARN: {selected_device.arn}\")"
   ]
  },
  {
   "cell_type": "markdown",
   "id": "a215d81a-eeeb-4382-81bd-19ef4f31b181",
   "metadata": {},
   "source": [
    "## All set! Starting Simulation..."
   ]
  },
  {
   "cell_type": "markdown",
   "id": "7a7a5394-a1b4-41e3-a73a-e467bddbf164",
   "metadata": {},
   "source": [
    "### Importar notebooks definidos no nivel hierarquico acima"
   ]
  },
  {
   "cell_type": "code",
   "execution_count": 25,
   "id": "2b46a3de-00ce-46c2-b78c-19272932ac9d",
   "metadata": {},
   "outputs": [
    {
     "ename": "Exception",
     "evalue": "File `'H2_molecule'` not found.",
     "output_type": "error",
     "traceback": [
      "\u001b[0;31m---------------------------------------------------------------------------\u001b[0m",
      "\u001b[0;31mOSError\u001b[0m                                   Traceback (most recent call last)",
      "File \u001b[0;32m~/Repositories/Artigo/Clifford_ZNE_artigo/venv01/lib/python3.13/site-packages/IPython/core/magics/execution.py:720\u001b[0m, in \u001b[0;36mExecutionMagics.run\u001b[0;34m(self, parameter_s, runner, file_finder)\u001b[0m\n\u001b[1;32m    719\u001b[0m     fpath \u001b[38;5;241m=\u001b[39m arg_lst[\u001b[38;5;241m0\u001b[39m]\n\u001b[0;32m--> 720\u001b[0m     filename \u001b[38;5;241m=\u001b[39m \u001b[43mfile_finder\u001b[49m\u001b[43m(\u001b[49m\u001b[43mfpath\u001b[49m\u001b[43m)\u001b[49m\n\u001b[1;32m    721\u001b[0m \u001b[38;5;28;01mexcept\u001b[39;00m \u001b[38;5;167;01mIndexError\u001b[39;00m \u001b[38;5;28;01mas\u001b[39;00m e:\n",
      "File \u001b[0;32m~/Repositories/Artigo/Clifford_ZNE_artigo/venv01/lib/python3.13/site-packages/IPython/utils/path.py:91\u001b[0m, in \u001b[0;36mget_py_filename\u001b[0;34m(name)\u001b[0m\n\u001b[1;32m     90\u001b[0m         \u001b[38;5;28;01mreturn\u001b[39;00m py_name\n\u001b[0;32m---> 91\u001b[0m \u001b[38;5;28;01mraise\u001b[39;00m \u001b[38;5;167;01mIOError\u001b[39;00m(\u001b[38;5;124m\"\u001b[39m\u001b[38;5;124mFile `\u001b[39m\u001b[38;5;132;01m%r\u001b[39;00m\u001b[38;5;124m` not found.\u001b[39m\u001b[38;5;124m\"\u001b[39m \u001b[38;5;241m%\u001b[39m name)\n",
      "\u001b[0;31mOSError\u001b[0m: File `'H2_molecule'` not found.",
      "\nThe above exception was the direct cause of the following exception:\n",
      "\u001b[0;31mException\u001b[0m                                 Traceback (most recent call last)",
      "Cell \u001b[0;32mIn[25], line 1\u001b[0m\n\u001b[0;32m----> 1\u001b[0m \u001b[43mget_ipython\u001b[49m\u001b[43m(\u001b[49m\u001b[43m)\u001b[49m\u001b[38;5;241;43m.\u001b[39;49m\u001b[43mrun_line_magic\u001b[49m\u001b[43m(\u001b[49m\u001b[38;5;124;43m'\u001b[39;49m\u001b[38;5;124;43mrun\u001b[39;49m\u001b[38;5;124;43m'\u001b[39;49m\u001b[43m,\u001b[49m\u001b[43m \u001b[49m\u001b[38;5;124;43m\"\u001b[39;49m\u001b[38;5;124;43mH2_molecule  # substitua \u001b[39;49m\u001b[38;5;124;43m'\u001b[39;49m\u001b[38;5;124;43mnome_do_notebook\u001b[39;49m\u001b[38;5;124;43m'\u001b[39;49m\u001b[38;5;124;43m pelo nome do seu arquivo sem a extensão\u001b[39;49m\u001b[38;5;124;43m\"\u001b[39;49m\u001b[43m)\u001b[49m\n",
      "File \u001b[0;32m~/Repositories/Artigo/Clifford_ZNE_artigo/venv01/lib/python3.13/site-packages/IPython/core/interactiveshell.py:2482\u001b[0m, in \u001b[0;36mInteractiveShell.run_line_magic\u001b[0;34m(self, magic_name, line, _stack_depth)\u001b[0m\n\u001b[1;32m   2480\u001b[0m     kwargs[\u001b[38;5;124m'\u001b[39m\u001b[38;5;124mlocal_ns\u001b[39m\u001b[38;5;124m'\u001b[39m] \u001b[38;5;241m=\u001b[39m \u001b[38;5;28mself\u001b[39m\u001b[38;5;241m.\u001b[39mget_local_scope(stack_depth)\n\u001b[1;32m   2481\u001b[0m \u001b[38;5;28;01mwith\u001b[39;00m \u001b[38;5;28mself\u001b[39m\u001b[38;5;241m.\u001b[39mbuiltin_trap:\n\u001b[0;32m-> 2482\u001b[0m     result \u001b[38;5;241m=\u001b[39m \u001b[43mfn\u001b[49m\u001b[43m(\u001b[49m\u001b[38;5;241;43m*\u001b[39;49m\u001b[43margs\u001b[49m\u001b[43m,\u001b[49m\u001b[43m \u001b[49m\u001b[38;5;241;43m*\u001b[39;49m\u001b[38;5;241;43m*\u001b[39;49m\u001b[43mkwargs\u001b[49m\u001b[43m)\u001b[49m\n\u001b[1;32m   2484\u001b[0m \u001b[38;5;66;03m# The code below prevents the output from being displayed\u001b[39;00m\n\u001b[1;32m   2485\u001b[0m \u001b[38;5;66;03m# when using magics with decorator @output_can_be_silenced\u001b[39;00m\n\u001b[1;32m   2486\u001b[0m \u001b[38;5;66;03m# when the last Python token in the expression is a ';'.\u001b[39;00m\n\u001b[1;32m   2487\u001b[0m \u001b[38;5;28;01mif\u001b[39;00m \u001b[38;5;28mgetattr\u001b[39m(fn, magic\u001b[38;5;241m.\u001b[39mMAGIC_OUTPUT_CAN_BE_SILENCED, \u001b[38;5;28;01mFalse\u001b[39;00m):\n",
      "File \u001b[0;32m~/Repositories/Artigo/Clifford_ZNE_artigo/venv01/lib/python3.13/site-packages/IPython/core/magics/execution.py:731\u001b[0m, in \u001b[0;36mExecutionMagics.run\u001b[0;34m(self, parameter_s, runner, file_finder)\u001b[0m\n\u001b[1;32m    729\u001b[0m     \u001b[38;5;28;01mif\u001b[39;00m os\u001b[38;5;241m.\u001b[39mname \u001b[38;5;241m==\u001b[39m \u001b[38;5;124m'\u001b[39m\u001b[38;5;124mnt\u001b[39m\u001b[38;5;124m'\u001b[39m \u001b[38;5;129;01mand\u001b[39;00m re\u001b[38;5;241m.\u001b[39mmatch(\u001b[38;5;124mr\u001b[39m\u001b[38;5;124m\"\u001b[39m\u001b[38;5;124m^\u001b[39m\u001b[38;5;124m'\u001b[39m\u001b[38;5;124m.*\u001b[39m\u001b[38;5;124m'\u001b[39m\u001b[38;5;124m$\u001b[39m\u001b[38;5;124m\"\u001b[39m,fpath):\n\u001b[1;32m    730\u001b[0m         warn(\u001b[38;5;124m'\u001b[39m\u001b[38;5;124mFor Windows, use double quotes to wrap a filename: \u001b[39m\u001b[38;5;132;01m%r\u001b[39;00m\u001b[38;5;124mun \u001b[39m\u001b[38;5;124m\"\u001b[39m\u001b[38;5;124mmypath\u001b[39m\u001b[38;5;130;01m\\\\\u001b[39;00m\u001b[38;5;124mmyfile.py\u001b[39m\u001b[38;5;124m\"\u001b[39m\u001b[38;5;124m'\u001b[39m)\n\u001b[0;32m--> 731\u001b[0m     \u001b[38;5;28;01mraise\u001b[39;00m \u001b[38;5;167;01mException\u001b[39;00m(msg) \u001b[38;5;28;01mfrom\u001b[39;00m\u001b[38;5;250m \u001b[39m\u001b[38;5;21;01me\u001b[39;00m\n\u001b[1;32m    732\u001b[0m \u001b[38;5;28;01mexcept\u001b[39;00m \u001b[38;5;167;01mTypeError\u001b[39;00m:\n\u001b[1;32m    733\u001b[0m     \u001b[38;5;28;01mif\u001b[39;00m fpath \u001b[38;5;129;01min\u001b[39;00m sys\u001b[38;5;241m.\u001b[39mmeta_path:\n",
      "\u001b[0;31mException\u001b[0m: File `'H2_molecule'` not found."
     ]
    }
   ],
   "source": [
    "%run H2_molecule  # substitua 'nome_do_notebook' pelo nome do seu arquivo sem a extensão"
   ]
  },
  {
   "cell_type": "code",
   "execution_count": null,
   "id": "579d4d8d-9bfa-4b9e-a63c-82e03dc863f8",
   "metadata": {},
   "outputs": [],
   "source": []
  },
  {
   "cell_type": "code",
   "execution_count": null,
   "id": "1cb67dd7-5260-44ea-9756-3fbd06ae9c2e",
   "metadata": {},
   "outputs": [],
   "source": []
  },
  {
   "cell_type": "code",
   "execution_count": null,
   "id": "d63ea895-7afb-4859-ad20-0c486d7f21b4",
   "metadata": {},
   "outputs": [],
   "source": [
    "import sys\n",
    "sys.path.insert(1, '/AWS_environment')  # Adiciona o diretório pai à lista de caminhos de importação\n",
    "\n",
    "import nbimporter\n",
    "import H2_molecule"
   ]
  },
  {
   "cell_type": "code",
   "execution_count": 24,
   "id": "f80564da-0316-49e7-9f76-70f8de57d41f",
   "metadata": {},
   "outputs": [
    {
     "name": "stdout",
     "output_type": "stream",
     "text": [
      "['/Users/avilamrs/Repositories/Artigo/Clifford_ZNE_artigo/AWS_environment', 'AWS_environment', 'AWS_environment', '/usr/local/Cellar/python@3.13/3.13.1/Frameworks/Python.framework/Versions/3.13/lib/python313.zip', '/AWS_environment', '/AWS_environment', '/AWS_environment', '/AWS_environment', '/AWS_environment', '..', '/usr/local/Cellar/python@3.13/3.13.1/Frameworks/Python.framework/Versions/3.13/lib/python3.13', '/usr/local/Cellar/python@3.13/3.13.1/Frameworks/Python.framework/Versions/3.13/lib/python3.13/lib-dynload', '', '/Users/avilamrs/Repositories/Artigo/Clifford_ZNE_artigo/venv01/lib/python3.13/site-packages', '..']\n"
     ]
    }
   ],
   "source": [
    "import sys\n",
    "print(sys.path)"
   ]
  },
  {
   "cell_type": "code",
   "execution_count": 22,
   "id": "10bd6f32-c017-4c73-809e-bb93ceca7e77",
   "metadata": {},
   "outputs": [
    {
     "name": "stdout",
     "output_type": "stream",
     "text": [
      "Diretório atual: /Users/avilamrs\n",
      "Diretório acima: /Users\n"
     ]
    }
   ],
   "source": [
    "import os\n",
    "\n",
    "# Obtém o diretório atual do Jupyter Notebook\n",
    "current_dir = os.getcwd()\n",
    "print(\"Diretório atual:\", current_dir)\n",
    "\n",
    "# Se o notebook que você quer importar está em um diretório acima\n",
    "parent_dir = os.path.abspath(os.path.join(current_dir, \"..\"))\n",
    "print(\"Diretório acima:\", parent_dir)"
   ]
  },
  {
   "cell_type": "code",
   "execution_count": 8,
   "id": "f6ebd43d-5935-4f3d-96f4-e587263b8b8c",
   "metadata": {},
   "outputs": [
    {
     "name": "stderr",
     "output_type": "stream",
     "text": [
      "/var/folders/20/66smt5wj21xfj91tmh4z066r0000gp/T/ipykernel_7953/1803756277.py:20: DeprecationWarning: The class ``qiskit.primitives.estimator.Estimator`` is deprecated as of qiskit 1.2. It will be removed no earlier than 3 months after the release date. All implementations of the `BaseEstimatorV1` interface have been deprecated in favor of their V2 counterparts. The V2 alternative for the `Estimator` class is `StatevectorEstimator`.\n",
      "  est = Estimator(backend=selected_device)\n"
     ]
    },
    {
     "ename": "TypeError",
     "evalue": "Estimator.__init__() got an unexpected keyword argument 'backend'",
     "output_type": "error",
     "traceback": [
      "\u001b[0;31m---------------------------------------------------------------------------\u001b[0m",
      "\u001b[0;31mTypeError\u001b[0m                                 Traceback (most recent call last)",
      "Cell \u001b[0;32mIn[8], line 20\u001b[0m\n\u001b[1;32m     17\u001b[0m obs \u001b[38;5;241m=\u001b[39m np\u001b[38;5;241m.\u001b[39mcos(theta) \u001b[38;5;241m*\u001b[39m SparsePauliOp(Pauli(\u001b[38;5;124m\"\u001b[39m\u001b[38;5;124mZ\u001b[39m\u001b[38;5;124m\"\u001b[39m)) \u001b[38;5;241m+\u001b[39m np\u001b[38;5;241m.\u001b[39msin(theta) \u001b[38;5;241m*\u001b[39m SparsePauliOp(Pauli(\u001b[38;5;124m\"\u001b[39m\u001b[38;5;124mX\u001b[39m\u001b[38;5;124m\"\u001b[39m))\n\u001b[1;32m     19\u001b[0m \u001b[38;5;66;03m# Criação do Estimator passando o backend AWS\u001b[39;00m\n\u001b[0;32m---> 20\u001b[0m est \u001b[38;5;241m=\u001b[39m \u001b[43mEstimator\u001b[49m\u001b[43m(\u001b[49m\u001b[43mbackend\u001b[49m\u001b[38;5;241;43m=\u001b[39;49m\u001b[43mselected_device\u001b[49m\u001b[43m)\u001b[49m\n\u001b[1;32m     22\u001b[0m \u001b[38;5;66;03m# Executa o Estimator passando uma lista de circuitos e uma lista de observáveis\u001b[39;00m\n\u001b[1;32m     23\u001b[0m \u001b[38;5;66;03m# Aqui usamos 1024 shots para a estimação\u001b[39;00m\n\u001b[1;32m     24\u001b[0m result \u001b[38;5;241m=\u001b[39m est\u001b[38;5;241m.\u001b[39mrun([qc], [obs], shots\u001b[38;5;241m=\u001b[39m\u001b[38;5;241m1024\u001b[39m)\u001b[38;5;241m.\u001b[39mresult()\n",
      "File \u001b[0;32m~/Repositories/Artigo/Clifford_ZNE_artigo/venv/lib/python3.13/site-packages/qiskit/utils/deprecation.py:97\u001b[0m, in \u001b[0;36mdeprecate_func.<locals>.decorator.<locals>.wrapper\u001b[0;34m(*args, **kwargs)\u001b[0m\n\u001b[1;32m     94\u001b[0m \u001b[38;5;129m@functools\u001b[39m\u001b[38;5;241m.\u001b[39mwraps(func)\n\u001b[1;32m     95\u001b[0m \u001b[38;5;28;01mdef\u001b[39;00m\u001b[38;5;250m \u001b[39m\u001b[38;5;21mwrapper\u001b[39m(\u001b[38;5;241m*\u001b[39margs, \u001b[38;5;241m*\u001b[39m\u001b[38;5;241m*\u001b[39mkwargs):\n\u001b[1;32m     96\u001b[0m     warnings\u001b[38;5;241m.\u001b[39mwarn(msg, category\u001b[38;5;241m=\u001b[39mcategory, stacklevel\u001b[38;5;241m=\u001b[39mstacklevel)\n\u001b[0;32m---> 97\u001b[0m     \u001b[38;5;28;01mreturn\u001b[39;00m \u001b[43mfunc\u001b[49m\u001b[43m(\u001b[49m\u001b[38;5;241;43m*\u001b[39;49m\u001b[43margs\u001b[49m\u001b[43m,\u001b[49m\u001b[43m \u001b[49m\u001b[38;5;241;43m*\u001b[39;49m\u001b[38;5;241;43m*\u001b[39;49m\u001b[43mkwargs\u001b[49m\u001b[43m)\u001b[49m\n",
      "\u001b[0;31mTypeError\u001b[0m: Estimator.__init__() got an unexpected keyword argument 'backend'"
     ]
    }
   ],
   "source": [
    "import numpy as np\n",
    "from qiskit import QuantumCircuit\n",
    "from qiskit.quantum_info import Pauli, SparsePauliOp\n",
    "from qiskit.primitives import Estimator\n",
    "from qiskit_braket_provider import BraketProvider\n",
    "\n",
    "# Configurar o provedor e selecionar o backend AWS (por exemplo, o simulador SV1)\n",
    "provider = BraketProvider()\n",
    "backend = provider.get_backend(\"SV1\")\n",
    "\n",
    "# Criação de um circuito simples: um qubit com porta Hadamard\n",
    "qc = QuantumCircuit(1)\n",
    "qc.h(0)\n",
    "\n",
    "# Definir o observável não trivial A = cos(theta)*Z + sin(theta)*X\n",
    "theta = np.pi / 4  # Exemplo com theta = π/4\n",
    "obs = np.cos(theta) * SparsePauliOp(Pauli(\"Z\")) + np.sin(theta) * SparsePauliOp(Pauli(\"X\"))\n",
    "\n",
    "# Criação do Estimator passando o backend AWS\n",
    "est = Estimator(backend=selected_device)\n",
    "\n",
    "# Executa o Estimator passando uma lista de circuitos e uma lista de observáveis\n",
    "# Aqui usamos 1024 shots para a estimação\n",
    "result = est.run([qc], [obs], shots=1024).result()\n",
    "\n",
    "# O resultado contém o valor esperado estimado para o observável\n",
    "print(\"Valor esperado estimado:\", result.values)\n"
   ]
  },
  {
   "cell_type": "code",
   "execution_count": 9,
   "id": "369a8347-8c95-46cb-84c3-28319023bd79",
   "metadata": {},
   "outputs": [
    {
     "name": "stderr",
     "output_type": "stream",
     "text": [
      "Python(9577) MallocStackLogging: can't turn off malloc stack logging because it was not enabled.\n"
     ]
    },
    {
     "name": "stdout",
     "output_type": "stream",
     "text": [
      "Collecting nbimporter\n",
      "  Downloading nbimporter-0.3.4-py3-none-any.whl.metadata (252 bytes)\n",
      "Downloading nbimporter-0.3.4-py3-none-any.whl (4.9 kB)\n",
      "Installing collected packages: nbimporter\n",
      "Successfully installed nbimporter-0.3.4\n",
      "\n",
      "\u001b[1m[\u001b[0m\u001b[34;49mnotice\u001b[0m\u001b[1;39;49m]\u001b[0m\u001b[39;49m A new release of pip is available: \u001b[0m\u001b[31;49m24.3.1\u001b[0m\u001b[39;49m -> \u001b[0m\u001b[32;49m25.0.1\u001b[0m\n",
      "\u001b[1m[\u001b[0m\u001b[34;49mnotice\u001b[0m\u001b[1;39;49m]\u001b[0m\u001b[39;49m To update, run: \u001b[0m\u001b[32;49mpip install --upgrade pip\u001b[0m\n"
     ]
    }
   ],
   "source": [
    "!pip install nbimporter"
   ]
  }
 ],
 "metadata": {
  "kernelspec": {
   "display_name": "Python3 (venv01)",
   "language": "python",
   "name": "venv01"
  },
  "language_info": {
   "codemirror_mode": {
    "name": "ipython",
    "version": 3
   },
   "file_extension": ".py",
   "mimetype": "text/x-python",
   "name": "python",
   "nbconvert_exporter": "python",
   "pygments_lexer": "ipython3",
   "version": "3.13.1"
  }
 },
 "nbformat": 4,
 "nbformat_minor": 5
}
