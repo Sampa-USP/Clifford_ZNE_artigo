{
 "cells": [
  {
   "cell_type": "markdown",
   "id": "bee1ff3b-4b90-467f-8533-b0ad686894b2",
   "metadata": {},
   "source": [
    "<div class=\"alert alert-block alert-success\">\n",
    "<b>This simulation runs a circuit with a varying number of gates for the purpose of comparing different basis for representing Hidrogen in the calculation of the ground state energy of the H2 molecule. </b>\n",
    "<div>Obs. 1: The data is saved in external files so that it can be worked on without incurring new costs.</div>\n",
    "<div>Obs. 2: For new simulation parameters, save in a file with a different name.</div>\n",
    "</div>\n",
    "\n",
    "# Instructions if you are running outside AWS cloud\n",
    "\n",
    "1. Install aws-cli:\n",
    "\n",
    "`sudo apt install aws-cli`\n",
    "\n",
    "2. Setup aws credentials:\n",
    "\n",
    "`aws configure --profile \"default\"`\n",
    "\n",
    "3. Create virtual environment \n",
    "\n",
    "`python -m venv /path/to/new/virtual/environment`\n",
    "\n",
    "4. Activate virtual environment\n",
    "\n",
    "`source /path/to/new/virtual/environment/bin/activate`"
   ]
  },
  {
   "cell_type": "markdown",
   "id": "6927c0b6-586e-4bfd-9d9c-767581e9f9f6",
   "metadata": {},
   "source": [
    "# **Teoria sobre Bases em Química Quântica e Simulação da Molécula de Hidrogênio**\n",
    "\n",
    "## **1. Introdução**\n",
    "Na química quântica computacional, utilizamos conjuntos de bases para representar orbitais atômicos e resolver a equação de Schrödinger dentro da aproximação de Hartree-Fock (HF) ou métodos mais avançados, como a Teoria do Funcional da Densidade (DFT) e os métodos pós-HF.\n",
    "\n",
    "A escolha da base tem um grande impacto na precisão dos cálculos e no custo computacional. As bases podem variar desde representações simples, como **STO-3G**, até bases de alto nível, como **CC-PVTZ** e **aug-cc-pVQZ**.\n",
    "\n",
    "Neste documento, exploraremos as principais bases utilizadas para a simulação da molécula de hidrogênio (H₂) e sua importância na determinação das propriedades eletrônicas.\n",
    "\n",
    "---\n",
    "\n",
    "## **2. O que são Conjuntos de Bases?**\n",
    "Os conjuntos de bases são funções matemáticas que aproximam os orbitais atômicos. Existem duas abordagens principais:\n",
    "\n",
    "- **Funções de Slater (STO - Slater-Type Orbitals)**: representam melhor os orbitais atômicos reais, mas são computacionalmente caras.\n",
    "- **Funções Gaussianas (GTO - Gaussian-Type Orbitals)**: permitem cálculos mais eficientes ao aproximar os STOs como combinações lineares de gaussianas.\n",
    "\n",
    "Na prática, a maioria dos métodos utiliza **GTOs**, pois são computacionalmente mais viáveis. A nomenclatura comum inclui o número de gaussianas combinadas para formar um orbital, como **STO-3G** (três gaussianas por orbital).\n",
    "\n",
    "---\n",
    "\n",
    "## **3. Bases Comuns para Simulação da Molécula de Hidrogênio**\n",
    "Abaixo estão algumas das bases mais utilizadas na simulação da molécula de H₂, variando em precisão e custo computacional:\n",
    "\n",
    "### **3.1 STO-3G**\n",
    "- **Descrição**: Base mínima composta por 3 gaussianas para aproximar cada orbital tipo Slater.\n",
    "- **Vantagens**: Baixo custo computacional.\n",
    "- **Desvantagens**: Baixa precisão, não captura efeitos de polarização ou correlação eletrônica corretamente.\n",
    "\n",
    "### **3.2 6-31G**\n",
    "- **Descrição**: Conjunto de bases de divisão dupla (**double-zeta**) que utiliza:\n",
    "  - 6 funções gaussianas para o orbital interno.\n",
    "  - Uma combinação de duas funções para orbitais externos (3 e 1 gaussianas).\n",
    "- **Vantagens**: Melhor precisão do que STO-3G, ainda eficiente computacionalmente.\n",
    "- **Desvantagens**: Não inclui polarização por padrão.\n",
    "\n",
    "### **3.3 6-31G**(d) ou **6-31G**(*)\n",
    "- **Descrição**: Adiciona funções de polarização **d** para átomos que não sejam hidrogênio.\n",
    "- **Vantagens**: Melhor descrição de efeitos anisotrópicos.\n",
    "- **Desvantagens**: Custo computacional maior.\n",
    "\n",
    "### **3.4 cc-pVDZ (Correlated-Consistent Polarized Valence Double-Zeta)**\n",
    "- **Descrição**: Base de correlação consistente (CC) desenvolvida para cálculos mais precisos.\n",
    "- **Vantagens**: Considera correlação eletrônica e efeitos de polarização.\n",
    "- **Desvantagens**: Mais custoso do que as bases Pople (STO-3G, 6-31G).\n",
    "\n",
    "### **3.5 aug-cc-pVTZ (Augmented Correlation-Consistent Triple-Zeta)**\n",
    "- **Descrição**: Inclui funções difusas (aug) para capturar melhor efeitos de dispersão e interações de longo alcance.\n",
    "- **Vantagens**: Altíssima precisão.\n",
    "- **Desvantagens**: Alto custo computacional.\n",
    "\n",
    "---\n",
    "\n",
    "## **4. Escolhendo a Base Apropriada para H₂**\n",
    "A escolha da base depende do equilíbrio entre precisão e custo computacional:\n",
    "\n",
    "- Para **cálculos rápidos e qualitativos**: **STO-3G**\n",
    "- Para **boa precisão com custo moderado**: **6-31G(d)**\n",
    "- Para **alta precisão considerando correlação eletrônica**: **cc-pVDZ** ou **cc-pVTZ**\n",
    "- Para **simulações muito precisas, incluindo dispersão**: **aug-cc-pVTZ**\n",
    "\n",
    "Se o objetivo for um cálculo rápido e qualitativo, **STO-3G** pode ser suficiente. Para precisão, especialmente para propriedades eletrônicas, **cc-pVDZ ou cc-pVTZ** são melhores opções.\n",
    "\n",
    "---\n",
    "\n",
    "## **6. Conclusão**\n",
    "A escolha da base é crucial para obter resultados confiáveis em simulações químicas. Bases mais simples, como **STO-3G**, podem ser úteis para cálculos rápidos, mas bases mais avançadas, como **cc-pVDZ** ou **aug-cc-pVTZ**, são essenciais para maior precisão.\n",
    "\n",
    "Na simulação da molécula de hidrogênio, recomenda-se usar **cc-pVDZ ou cc-pVTZ** para um equilíbrio entre custo e precisão.\n",
    "\n",
    "### **Referências**\n",
    "- Szabo, A., & Ostlund, N. S. *Modern Quantum Chemistry*. Dover, 1996.\n",
    "- Helgaker, T., Jørgensen, P., & Olsen, J. *Molecular Electronic-Structure Theory*. Wiley, 2000.\n",
    "- Manual do Psi4: https://psicode.org/\n"
   ]
  },
  {
   "cell_type": "markdown",
   "id": "50a7b65e-352c-4961-b33d-9c6cdc6223b3",
   "metadata": {},
   "source": [
    "### AWS login"
   ]
  },
  {
   "cell_type": "code",
   "execution_count": 2,
   "id": "051f37db-0792-4388-9e17-0043ab521486",
   "metadata": {},
   "outputs": [],
   "source": [
    "from boto3 import Session\n",
    "from braket.aws import AwsSession\n",
    "\n",
    "# Start Boto3 Session with your credentials profile\n",
    "boto_session = Session(profile_name=\"default\")\n",
    "\n",
    "# Initialize Braket session with Boto3 Session credentials\n",
    "aws_session = AwsSession(boto_session=boto_session)"
   ]
  },
  {
   "cell_type": "code",
   "execution_count": 4,
   "id": "44a00281-8be5-496c-a206-cf02e44b1e5b",
   "metadata": {},
   "outputs": [],
   "source": [
    "# Atualização de dependencias\n",
    "!pip freeze > requirements.txt"
   ]
  },
  {
   "cell_type": "markdown",
   "id": "d6e2af8e-e81b-4c38-a5b9-73e26999f63f",
   "metadata": {},
   "source": [
    "# Importando Backends - Computadores Quânticos"
   ]
  },
  {
   "cell_type": "code",
   "execution_count": 5,
   "id": "aa23d9b8-ac9c-42d0-9cb0-14580056bac9",
   "metadata": {},
   "outputs": [
    {
     "name": "stdout",
     "output_type": "stream",
     "text": [
      "Dispositivos disponíveis na AWS Braket:\n",
      "0: Nome: Ankaa-3, Tipo: AwsDeviceType.QPU, ARN: arn:aws:braket:us-west-1::device/qpu/rigetti/Ankaa-3\n",
      "1: Nome: Aquila, Tipo: AwsDeviceType.QPU, ARN: arn:aws:braket:us-east-1::device/qpu/quera/Aquila\n",
      "2: Nome: Aria 1, Tipo: AwsDeviceType.QPU, ARN: arn:aws:braket:us-east-1::device/qpu/ionq/Aria-1\n",
      "3: Nome: Aria 2, Tipo: AwsDeviceType.QPU, ARN: arn:aws:braket:us-east-1::device/qpu/ionq/Aria-2\n",
      "4: Nome: Forte 1, Tipo: AwsDeviceType.QPU, ARN: arn:aws:braket:us-east-1::device/qpu/ionq/Forte-1\n",
      "5: Nome: Garnet, Tipo: AwsDeviceType.QPU, ARN: arn:aws:braket:eu-north-1::device/qpu/iqm/Garnet\n",
      "6: Nome: SV1, Tipo: AwsDeviceType.SIMULATOR, ARN: arn:aws:braket:::device/quantum-simulator/amazon/sv1\n",
      "7: Nome: TN1, Tipo: AwsDeviceType.SIMULATOR, ARN: arn:aws:braket:::device/quantum-simulator/amazon/tn1\n",
      "8: Nome: dm1, Tipo: AwsDeviceType.SIMULATOR, ARN: arn:aws:braket:::device/quantum-simulator/amazon/dm1\n"
     ]
    }
   ],
   "source": [
    "from braket.aws import AwsDevice\n",
    "\n",
    "# Recupera os dispositivos disponíveis\n",
    "devices = AwsDevice.get_devices()\n",
    "\n",
    "print(\"Dispositivos disponíveis na AWS Braket:\")\n",
    "for idx, device in enumerate(devices):\n",
    "    print(f\"{idx}: Nome: {device.name}, Tipo: {device.type}, ARN: {device.arn}\")"
   ]
  },
  {
   "cell_type": "code",
   "execution_count": 6,
   "id": "e2a7b53a-0de1-43bd-85f3-527159bc31b7",
   "metadata": {},
   "outputs": [
    {
     "name": "stdin",
     "output_type": "stream",
     "text": [
      "Selecione o índice do dispositivo desejado:  6\n"
     ]
    },
    {
     "name": "stdout",
     "output_type": "stream",
     "text": [
      "Dispositivo selecionado: SV1, ARN: arn:aws:braket:::device/quantum-simulator/amazon/sv1\n"
     ]
    }
   ],
   "source": [
    "# Selecionar um dispositivo pelo índice da lista\n",
    "device_index = int(input(\"Selecione o índice do dispositivo desejado: \"))\n",
    "selected_device = devices[device_index]\n",
    "\n",
    "print(f\"Dispositivo selecionado: {selected_device.name}, ARN: {selected_device.arn}\")"
   ]
  },
  {
   "cell_type": "markdown",
   "id": "2819ff6b-c4f5-481a-aad2-c09659c2de52",
   "metadata": {},
   "source": [
    "# Importing modules"
   ]
  },
  {
   "cell_type": "code",
   "execution_count": null,
   "id": "a6db6c2b-018c-41d5-b2f4-2d3cd0e29271",
   "metadata": {},
   "outputs": [],
   "source": [
    "# Executar o modelo para H2\n",
    "test_H2 = H2Model()\n",
    "energy_H2 = test_H2.run_vqe()\n",
    "print(f\"Energia do estado fundamental do H2: {energy_H2:.6f} Ha\")"
   ]
  },
  {
   "cell_type": "code",
   "execution_count": null,
   "id": "d7cec627-b849-4885-8a27-86c090ad4b80",
   "metadata": {},
   "outputs": [],
   "source": []
  }
 ],
 "metadata": {
  "kernelspec": {
   "display_name": "Python 3 (ipykernel)",
   "language": "python",
   "name": "python3"
  },
  "language_info": {
   "codemirror_mode": {
    "name": "ipython",
    "version": 3
   },
   "file_extension": ".py",
   "mimetype": "text/x-python",
   "name": "python",
   "nbconvert_exporter": "python",
   "pygments_lexer": "ipython3",
   "version": "3.13.1"
  }
 },
 "nbformat": 4,
 "nbformat_minor": 5
}
