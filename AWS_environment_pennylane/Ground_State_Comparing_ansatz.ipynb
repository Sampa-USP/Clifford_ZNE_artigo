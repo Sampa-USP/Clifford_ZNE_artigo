{
 "cells": [
  {
   "cell_type": "markdown",
   "id": "bee1ff3b-4b90-467f-8533-b0ad686894b2",
   "metadata": {},
   "source": [
    "<div class=\"alert alert-block alert-success\">\n",
    "<b>This simulation runs a circuit with a varying number of gates for the purpose of comparing different ansatz of the wave function in order to calculate the ground state energy of the H2 molecule. </b>\n",
    "<div>Obs. 1: The data is saved in external files so that it can be worked on without incurring new costs.</div>\n",
    "<div>Obs. 2: For new simulation parameters, save in a file with a different name.</div>\n",
    "</div>\n",
    "\n",
    "# Instructions if you are running outside AWS cloud\n",
    "\n",
    "1. Install aws-cli:\n",
    "\n",
    "`sudo apt install aws-cli`\n",
    "\n",
    "2. Setup aws credentials:\n",
    "\n",
    "`aws configure --profile \"default\"`\n",
    "\n",
    "3. Create virtual environment \n",
    "\n",
    "`python -m venv /path/to/new/virtual/environment`\n",
    "\n",
    "4. Activate virtual environment\n",
    "\n",
    "`source /path/to/new/virtual/environment/bin/activate`"
   ]
  },
  {
   "cell_type": "markdown",
   "id": "1dde9d3c-b007-4431-9b48-b8f3e7fd442c",
   "metadata": {},
   "source": [
    "# **Comparação de Diferentes Ansatz para o Cálculo da Energia do Estado Fundamental da Molécula de Hidrogênio**\n",
    "\n",
    "## **1. Introdução**\n",
    "\n",
    "Na simulação de sistemas quânticos utilizando **computação quântica variacional (VQE - Variational Quantum Eigensolver)**, a escolha do **ansatz** desempenha um papel fundamental na precisão dos resultados. O ansatz define a estrutura da função de onda e impacta diretamente a convergência e a qualidade da solução.\n",
    "\n",
    "Neste notebook, comparamos diferentes ansätze para calcular a energia do estado fundamental da molécula de hidrogênio (H₂) utilizando métodos de VQE. Entre os ansätze analisados, estão:\n",
    "\n",
    "- **Hartree-Fock (HF)**\n",
    "- **UCCSD (Unitary Coupled Cluster Single and Double excitations)**\n",
    "- **Hardware-Efficient Ansatz**\n",
    "- **Heuristic Ansatz (RY, RZ, etc.)**\n",
    "\n",
    "Nosso objetivo é avaliar qual ansatz fornece a melhor aproximação da energia exata com um número reduzido de portas e qubits.\n",
    "\n",
    "---\n",
    "\n",
    "## **2. Teoria do Método VQE**\n",
    "\n",
    "O **Variational Quantum Eigensolver (VQE)** é um algoritmo híbrido clássico-quântico utilizado para encontrar a menor energia de um Hamiltoniano quântico. Ele combina:\n",
    "\n",
    "1. **Um ansatz parametrizado**, que define a forma da função de onda.\n",
    "2. **Um circuito quântico**, no qual os parâmetros do ansatz são otimizados para minimizar a energia.\n",
    "3. **Um otimizador clássico**, que ajusta os parâmetros para minimizar o valor esperado do Hamiltoniano.\n",
    "\n",
    "A energia é obtida como:\n",
    "$$\n",
    "E(\\theta) = \\langle \\psi(\\theta) | H | \\psi(\\theta) \\rangle\n",
    "$$\n",
    "\n",
    "onde $ \\theta $ são os parâmetros do circuito.\n",
    "\n",
    "---\n",
    "\n",
    "## **3. Definição do Problema: Molécula de H₂**\n",
    "\n",
    "A molécula de hidrogênio é um sistema ideal para testar diferentes ansätze, pois é simples, mas ainda exibe correlação eletrônica relevante. O Hamiltoniano eletrônico pode ser expresso como:\n",
    "\n",
    "$$\n",
    "H = c_0 I + c_1 Z_0 + c_2 Z_1 + c_3 Z_0 Z_1 + c_4 X_0 X_1 + c_5 Y_0 Y_1\n",
    "$$\n",
    "\n",
    "onde os coeficientes $ c_i $ são obtidos através de cálculos de química quântica clássica.\n",
    "\n",
    "---\n",
    "\n",
    "## **4. Comparação dos Ansatz**\n",
    "\n",
    "### **4.1 Hartree-Fock Ansatz**\n",
    "- Utiliza apenas estados de referência baseados na aproximação de Hartree-Fock.\n",
    "- Baixa complexidade, mas pode não capturar correlação eletrônica adequadamente.\n",
    "\n",
    "### **4.2 UCCSD (Unitary Coupled Cluster Single and Double excitations)**\n",
    "- Considerado um dos ansätze mais precisos para química quântica.\n",
    "- Implementado com portas exponenciais de excitação.\n",
    "- Custo computacional elevado devido ao grande número de portas.\n",
    "\n",
    "### **4.3 Hardware-Efficient Ansatz**\n",
    "- Usa portas quânticas genéricas (RX, RY, CNOT) distribuídas de forma eficiente para hardware quântico.\n",
    "- Fácil implementação, mas pode não garantir eficiência quântica para sistemas complexos.\n",
    "\n",
    "### **4.4 Heuristic Ansatz (RY, RZ)**\n",
    "- Usa rotações parametrizadas **RY** e **RZ**.\n",
    "- Baixa profundidade de circuito, mas pode exigir otimização mais refinada.\n",
    "\n",
    "---\n",
    "\n",
    "## **6. Conclusão**\n",
    "\n",
    "A escolha do ansatz tem um impacto significativo na precisão e eficiência computacional do método VQE. Os principais resultados observados são:\n",
    "\n",
    "- **Hartree-Fock**: Boa aproximação inicial, mas sem correlação eletrônica.\n",
    "- **UCCSD**: Alta precisão, mas exige circuitos profundos.\n",
    "- **Hardware-Efficient**: Boa alternativa para dispositivos ruidosos.\n",
    "- **Heuristic Ansatz (RY, RZ)**: Alternativa leve e eficiente para cálculos aproximados.\n",
    "\n",
    "Para a molécula de H₂, **UCCSD** fornece os melhores resultados, mas ansätze heurísticos podem ser preferíveis para execução em hardware real.\n",
    "\n",
    "### **Referências**\n",
    "- McArdle, S., et al. \"Quantum computational chemistry.\" *Rev. Mod. Phys.*, 2020.\n",
    "- Kandala, A., et al. \"Hardware-efficient variational quantum eigensolver for small molecules and quantum magnets.\" *Nature*, 2017.\n",
    "- Qiskit Textbook: https://qiskit.org/textbook/"
   ]
  },
  {
   "cell_type": "markdown",
   "id": "50a7b65e-352c-4961-b33d-9c6cdc6223b3",
   "metadata": {},
   "source": [
    "### AWS login"
   ]
  },
  {
   "cell_type": "code",
   "execution_count": 2,
   "id": "051f37db-0792-4388-9e17-0043ab521486",
   "metadata": {},
   "outputs": [],
   "source": [
    "from boto3 import Session\n",
    "from braket.aws import AwsSession\n",
    "\n",
    "# Start Boto3 Session with your credentials profile\n",
    "boto_session = Session(profile_name=\"default\")\n",
    "\n",
    "# Initialize Braket session with Boto3 Session credentials\n",
    "aws_session = AwsSession(boto_session=boto_session)"
   ]
  },
  {
   "cell_type": "code",
   "execution_count": 4,
   "id": "44a00281-8be5-496c-a206-cf02e44b1e5b",
   "metadata": {},
   "outputs": [],
   "source": [
    "# Atualização de dependencias\n",
    "!pip freeze > requirements.txt"
   ]
  },
  {
   "cell_type": "markdown",
   "id": "d6e2af8e-e81b-4c38-a5b9-73e26999f63f",
   "metadata": {},
   "source": [
    "# Importando Backends - Computadores Quânticos"
   ]
  },
  {
   "cell_type": "code",
   "execution_count": 5,
   "id": "aa23d9b8-ac9c-42d0-9cb0-14580056bac9",
   "metadata": {},
   "outputs": [
    {
     "name": "stdout",
     "output_type": "stream",
     "text": [
      "Dispositivos disponíveis na AWS Braket:\n",
      "0: Nome: Ankaa-3, Tipo: AwsDeviceType.QPU, ARN: arn:aws:braket:us-west-1::device/qpu/rigetti/Ankaa-3\n",
      "1: Nome: Aquila, Tipo: AwsDeviceType.QPU, ARN: arn:aws:braket:us-east-1::device/qpu/quera/Aquila\n",
      "2: Nome: Aria 1, Tipo: AwsDeviceType.QPU, ARN: arn:aws:braket:us-east-1::device/qpu/ionq/Aria-1\n",
      "3: Nome: Aria 2, Tipo: AwsDeviceType.QPU, ARN: arn:aws:braket:us-east-1::device/qpu/ionq/Aria-2\n",
      "4: Nome: Forte 1, Tipo: AwsDeviceType.QPU, ARN: arn:aws:braket:us-east-1::device/qpu/ionq/Forte-1\n",
      "5: Nome: Garnet, Tipo: AwsDeviceType.QPU, ARN: arn:aws:braket:eu-north-1::device/qpu/iqm/Garnet\n",
      "6: Nome: SV1, Tipo: AwsDeviceType.SIMULATOR, ARN: arn:aws:braket:::device/quantum-simulator/amazon/sv1\n",
      "7: Nome: TN1, Tipo: AwsDeviceType.SIMULATOR, ARN: arn:aws:braket:::device/quantum-simulator/amazon/tn1\n",
      "8: Nome: dm1, Tipo: AwsDeviceType.SIMULATOR, ARN: arn:aws:braket:::device/quantum-simulator/amazon/dm1\n"
     ]
    }
   ],
   "source": [
    "from braket.aws import AwsDevice\n",
    "\n",
    "# Recupera os dispositivos disponíveis\n",
    "devices = AwsDevice.get_devices()\n",
    "\n",
    "print(\"Dispositivos disponíveis na AWS Braket:\")\n",
    "for idx, device in enumerate(devices):\n",
    "    print(f\"{idx}: Nome: {device.name}, Tipo: {device.type}, ARN: {device.arn}\")"
   ]
  },
  {
   "cell_type": "code",
   "execution_count": 6,
   "id": "e2a7b53a-0de1-43bd-85f3-527159bc31b7",
   "metadata": {},
   "outputs": [
    {
     "name": "stdin",
     "output_type": "stream",
     "text": [
      "Selecione o índice do dispositivo desejado:  6\n"
     ]
    },
    {
     "name": "stdout",
     "output_type": "stream",
     "text": [
      "Dispositivo selecionado: SV1, ARN: arn:aws:braket:::device/quantum-simulator/amazon/sv1\n"
     ]
    }
   ],
   "source": [
    "# Selecionar um dispositivo pelo índice da lista\n",
    "device_index = int(input(\"Selecione o índice do dispositivo desejado: \"))\n",
    "selected_device = devices[device_index]\n",
    "\n",
    "print(f\"Dispositivo selecionado: {selected_device.name}, ARN: {selected_device.arn}\")"
   ]
  },
  {
   "cell_type": "markdown",
   "id": "2819ff6b-c4f5-481a-aad2-c09659c2de52",
   "metadata": {},
   "source": [
    "# Importing modules"
   ]
  },
  {
   "cell_type": "code",
   "execution_count": null,
   "id": "a6db6c2b-018c-41d5-b2f4-2d3cd0e29271",
   "metadata": {},
   "outputs": [],
   "source": [
    "# Executar o modelo para H2\n",
    "test_H2 = H2Model()\n",
    "energy_H2 = test_H2.run_vqe()\n",
    "print(f\"Energia do estado fundamental do H2: {energy_H2:.6f} Ha\")"
   ]
  },
  {
   "cell_type": "code",
   "execution_count": null,
   "id": "d7cec627-b849-4885-8a27-86c090ad4b80",
   "metadata": {},
   "outputs": [],
   "source": []
  }
 ],
 "metadata": {
  "kernelspec": {
   "display_name": "Python 3 (ipykernel)",
   "language": "python",
   "name": "python3"
  },
  "language_info": {
   "codemirror_mode": {
    "name": "ipython",
    "version": 3
   },
   "file_extension": ".py",
   "mimetype": "text/x-python",
   "name": "python",
   "nbconvert_exporter": "python",
   "pygments_lexer": "ipython3",
   "version": "3.13.1"
  }
 },
 "nbformat": 4,
 "nbformat_minor": 5
}
