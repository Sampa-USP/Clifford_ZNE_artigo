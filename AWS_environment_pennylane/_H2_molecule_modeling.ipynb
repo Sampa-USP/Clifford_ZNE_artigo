{
 "cells": [
  {
   "cell_type": "markdown",
   "id": "1e90a429-9e6a-4816-aaf0-6c5504e7f6d4",
   "metadata": {},
   "source": [
    "# Modelagem Quântica da Molécula de H₂\n",
    "\n",
    "Este notebook implementa a modelagem da molécula de H₂ utilizando **PennyLane** e **AWS Braket**. \n",
    "Ele realiza a simulação quântica da molécula de hidrogênio utilizando o **Variational Quantum Eigensolver (VQE)** para determinar a energia do estado fundamental. \n",
    "\n",
    "## Parâmetros do Modelo:\n",
    "\n",
    "- **basis** (*str*): Base utilizada para representar a função de onda molecular. Exemplo: \"sto-3g\".\n",
    "- **ansatz** (*str*): Tipo de circuito quântico usado para representar o estado quântico. Exemplo: \"EfficientSU2\".\n",
    "- **backend** (*str*): Define onde a simulação será executada (\"local\" para simulador ou \"aws\" para rodar na AWS Braket).\n",
    "- **shots** (*int*): Número de amostragens para a execução do circuito.\n",
    "- **optimizer** (*str*): Algoritmo utilizado para otimizar os parâmetros do circuito (\"GradientDescent\", \"COBYLA\", \"Adam\", \"Nelder-Mead\").\n",
    "- **fit** (*str*): Método de ajuste dos resultados (exemplo: \"quadrático\", \"polinomial\").\n",
    "- **mapper** (*str*): Tipo de mapeamento de férmions para qubits (exemplo: \"Jordan-Wigner\", \"Bravyi-Kitaev\")."
   ]
  },
  {
   "cell_type": "code",
   "execution_count": 23,
   "id": "e1f0f8ef-8e54-4669-bf27-4b1d46b0e2b9",
   "metadata": {},
   "outputs": [],
   "source": [
    "# Atualização de dependencias\n",
    "!pip freeze > requirements.txt"
   ]
  },
  {
   "cell_type": "markdown",
   "id": "956645ff-9fcc-4d54-b38d-96aff5f7b29e",
   "metadata": {},
   "source": [
    "# Importing modules"
   ]
  },
  {
   "cell_type": "code",
   "execution_count": 27,
   "id": "3680805f-46a3-497d-879c-4a4a79315110",
   "metadata": {},
   "outputs": [],
   "source": [
    "# Library imports\n",
    "import matplotlib.pyplot as plt\n",
    "import pennylane as qml\n",
    "from pennylane import numpy as np\n",
    "from pennylane import qchem"
   ]
  },
  {
   "cell_type": "code",
   "execution_count": 28,
   "id": "1eb65fe1-0d39-4d42-bc2c-cdb6c469bccb",
   "metadata": {},
   "outputs": [],
   "source": [
    "# AWS imports: Import Braket SDK modules\n",
    "import math\n",
    "\n",
    "from braket.circuits import Circuit, Observable\n",
    "from braket.devices import LocalSimulator\n",
    "\n",
    "from braket.aws import AwsDevice, AwsQuantumTask\n",
    "from braket.error_mitigation import Debias"
   ]
  },
  {
   "cell_type": "code",
   "execution_count": 5,
   "id": "318cd49d-536d-4f07-953b-02d7fb1846e0",
   "metadata": {},
   "outputs": [],
   "source": [
    "#Specify the molecule we want to simulate\n",
    "symbols = [\"H\", \"H\"]\n",
    "coordinates = np.array([0.0, 0.0, -0.6614, 0.0, 0.0, 0.6614])"
   ]
  },
  {
   "cell_type": "code",
   "execution_count": 6,
   "id": "6c7ee347-9e2e-4bad-a354-e43951adf87b",
   "metadata": {},
   "outputs": [
    {
     "name": "stdout",
     "output_type": "stream",
     "text": [
      "Number of qubits =  4\n",
      "The Hamiltonian is  -0.04207255194743911 * I([0, 1, 2, 3]) + 0.17771358229091763 * Z(0) + 0.17771358229091766 * Z(1) + 0.17059759276836797 * (Z(0) @ Z(1)) + -0.24274501260941422 * Z(2) + 0.12293330449299356 * (Z(0) @ Z(2)) + 0.1676833885560135 * (Z(1) @ Z(2)) + 0.04475008406301993 * (Y(0) @ X(1) @ X(2) @ Y(3)) + -0.04475008406301993 * (Y(0) @ Y(1) @ X(2) @ X(3)) + -0.04475008406301993 * (X(0) @ X(1) @ Y(2) @ Y(3)) + 0.04475008406301993 * (X(0) @ Y(1) @ Y(2) @ X(3)) + -0.24274501260941428 * Z(3) + 0.1676833885560135 * (Z(0) @ Z(3)) + 0.12293330449299356 * (Z(1) @ Z(3)) + 0.1762766139418181 * (Z(2) @ Z(3))\n"
     ]
    }
   ],
   "source": [
    "#Build the electronic Hamiltonian of the hydrogen molecule \n",
    "hamiltonian, qubits = qml.qchem.molecular_hamiltonian(symbols, coordinates)\n",
    "print(\"Number of qubits = \", qubits)\n",
    "print(\"The Hamiltonian is \", hamiltonian)"
   ]
  },
  {
   "cell_type": "code",
   "execution_count": 7,
   "id": "b047f935-91c0-4211-86bb-027358beb5c5",
   "metadata": {},
   "outputs": [
    {
     "name": "stdout",
     "output_type": "stream",
     "text": [
      "[1 1 0 0]\n"
     ]
    }
   ],
   "source": [
    "#Generate the vector representing the Hartree-Fock state\n",
    "dev = qml.device(\"default.qubit\", wires=qubits)\n",
    "electrons = 2\n",
    "hf = qml.qchem.hf_state(electrons, qubits)\n",
    "print(hf)"
   ]
  },
  {
   "cell_type": "code",
   "execution_count": 8,
   "id": "dddbca5f-2d88-4a2f-a022-a179e8f2e5c9",
   "metadata": {},
   "outputs": [],
   "source": [
    "\n",
    "#Initialize qubit registers\n",
    "def circuit(param, wires):\n",
    "    qml.BasisState(hf, wires=wires)\n",
    "    qml.DoubleExcitation(param, wires=[0, 1, 2, 3])"
   ]
  },
  {
   "cell_type": "code",
   "execution_count": 9,
   "id": "08e0b7b8-3937-4234-9fc0-89579008d234",
   "metadata": {},
   "outputs": [],
   "source": [
    "\n",
    "@qml.qnode(dev, interface=\"autograd\")\n",
    "def cost_fn(param):\n",
    "    circuit(param, wires=range(qubits))\n",
    "    return qml.expval(hamiltonian)"
   ]
  },
  {
   "cell_type": "code",
   "execution_count": 10,
   "id": "319af5fa-65c2-47d5-814b-fcd8ef587a94",
   "metadata": {},
   "outputs": [],
   "source": [
    "\n",
    "#Use a basic gradient-descent optimizer\n",
    "opt = qml.GradientDescentOptimizer(stepsize=0.4)"
   ]
  },
  {
   "cell_type": "code",
   "execution_count": 11,
   "id": "05347f3d-6727-41ac-b458-4ccfdc4075da",
   "metadata": {},
   "outputs": [],
   "source": [
    "\n",
    "theta = np.array(0.0, requires_grad=True)"
   ]
  },
  {
   "cell_type": "code",
   "execution_count": 12,
   "id": "0c91cfdb-152e-4dfe-b3a2-cad8474d5f55",
   "metadata": {},
   "outputs": [
    {
     "name": "stderr",
     "output_type": "stream",
     "text": [
      "/Users/avilamrs/Repositories/Artigo/Clifford_ZNE_artigo/venv01/lib/python3.13/site-packages/pennylane/ops/op_math/composite.py:209: FutureWarning: functools.partial will be a method descriptor in future Python versions; wrap it in staticmethod() if you want to preserve the old behavior\n",
      "  return self._math_op(math.vstack(eigvals), axis=0)\n"
     ]
    },
    {
     "name": "stdout",
     "output_type": "stream",
     "text": [
      "Step = 0,  Energy = -1.12799983 Ha\n",
      "Step = 2,  Energy = -1.13466246 Ha\n",
      "Step = 4,  Energy = -1.13590595 Ha\n",
      "Step = 6,  Energy = -1.13613667 Ha\n",
      "Step = 8,  Energy = -1.13617944 Ha\n",
      "Step = 10,  Energy = -1.13618736 Ha\n",
      "Step = 12,  Energy = -1.13618883 Ha\n",
      "\n",
      "Final value of the ground-state energy = -1.13618883 Ha\n",
      "\n",
      "Optimal value of the circuit parameter = 0.20885146\n"
     ]
    }
   ],
   "source": [
    "\n",
    "\n",
    "# Store values of the cost function\n",
    "energy = [cost_fn(theta)]\n",
    "\n",
    "# Store values of the circuit parameter\n",
    "angle = [theta]\n",
    "\n",
    "#Optimization over max of 30 steps\n",
    "max_iterations = 30\n",
    "\n",
    "#Aim to reach a convergence tolerance of 10^−6\n",
    "conv_tol = 1e-06\n",
    "\n",
    "for n in range(max_iterations):\n",
    "    theta, prev_energy = opt.step_and_cost(cost_fn, theta)\n",
    "\n",
    "    energy.append(cost_fn(theta))\n",
    "    angle.append(theta)\n",
    "\n",
    "    conv = np.abs(energy[-1] - prev_energy)\n",
    "\n",
    "    if n % 2 == 0:\n",
    "        print(f\"Step = {n},  Energy = {energy[-1]:.8f} Ha\")\n",
    "\n",
    "    if conv <= conv_tol:\n",
    "        break\n",
    "\n",
    "print(\"\\n\" f\"Final value of the ground-state energy = {energy[-1]:.8f} Ha\")\n",
    "print(\"\\n\" f\"Optimal value of the circuit parameter = {angle[-1]:.8f}\")"
   ]
  },
  {
   "cell_type": "code",
   "execution_count": 13,
   "id": "43b09d14-1a45-406c-ac62-aff81b6a8e64",
   "metadata": {},
   "outputs": [
    {
     "data": {
      "image/png": "[encoded data removed]",
      "text/plain": [
       "<Figure size 1200x500 with 2 Axes>"
      ]
     },
     "metadata": {},
     "output_type": "display_data"
    }
   ],
   "source": [
    "\n",
    "#Plotting the Values\n",
    "fig = plt.figure()\n",
    "fig.set_figheight(5)\n",
    "fig.set_figwidth(12)\n",
    "\n",
    "#FCI energy classically computer\n",
    "E_fci = -1.136189454088\n",
    "\n",
    "#Add energy plot = Column 1\n",
    "ax1 = fig.add_subplot(121)\n",
    "ax1.plot(range(n + 2), energy, \"go\", ls=\"dashed\")\n",
    "ax1.plot(range(n + 2), np.full(n + 2, E_fci), color=\"red\")\n",
    "ax1.set_xlabel(\"Optimization step\", fontsize=13)\n",
    "ax1.set_ylabel(\"Energy (Hartree)\", fontsize=13)\n",
    "ax1.text(0.5, -1.1176, r\"\", fontsize=15)\n",
    "ax1.text(0, -1.1357, r\"\", fontsize=15)\n",
    "plt.xticks(fontsize=12)\n",
    "plt.yticks(fontsize=12)\n",
    "\n",
    "# Add angle plot = Column 2\n",
    "ax2 = fig.add_subplot(122)\n",
    "ax2.plot(range(n + 2), angle, \"go\", ls=\"dashed\")\n",
    "ax2.set_xlabel(\"Optimization step\", fontsize=13)\n",
    "ax2.set_ylabel(\"Gate parameter  (rad)\", fontsize=13)\n",
    "plt.xticks(fontsize=12)\n",
    "plt.yticks(fontsize=12)\n",
    "\n",
    "plt.subplots_adjust(wspace=0.3, bottom=0.2)\n",
    "plt.show()"
   ]
  },
  {
   "cell_type": "code",
   "execution_count": 22,
   "id": "86155182-4d30-467b-8002-d11f1aff1c8b",
   "metadata": {},
   "outputs": [
    {
     "ename": "ImportError",
     "evalue": "cannot import name 'BraketDevice' from 'braket.pennylane_plugin' (/Users/avilamrs/Repositories/Artigo/Clifford_ZNE_artigo/venv01/lib/python3.13/site-packages/braket/pennylane_plugin/__init__.py)",
     "output_type": "error",
     "traceback": [
      "\u001b[0;31m---------------------------------------------------------------------------\u001b[0m",
      "\u001b[0;31mImportError\u001b[0m                               Traceback (most recent call last)",
      "Cell \u001b[0;32mIn[22], line 5\u001b[0m\n\u001b[1;32m      3\u001b[0m \u001b[38;5;28;01mimport\u001b[39;00m\u001b[38;5;250m \u001b[39m\u001b[38;5;21;01mpennylane\u001b[39;00m\u001b[38;5;250m \u001b[39m\u001b[38;5;28;01mas\u001b[39;00m\u001b[38;5;250m \u001b[39m\u001b[38;5;21;01mqml\u001b[39;00m\n\u001b[1;32m      4\u001b[0m \u001b[38;5;28;01mfrom\u001b[39;00m\u001b[38;5;250m \u001b[39m\u001b[38;5;21;01mbraket\u001b[39;00m\u001b[38;5;21;01m.\u001b[39;00m\u001b[38;5;21;01maws\u001b[39;00m\u001b[38;5;250m \u001b[39m\u001b[38;5;28;01mimport\u001b[39;00m AwsDevice\n\u001b[0;32m----> 5\u001b[0m \u001b[38;5;28;01mfrom\u001b[39;00m\u001b[38;5;250m \u001b[39m\u001b[38;5;21;01mbraket\u001b[39;00m\u001b[38;5;21;01m.\u001b[39;00m\u001b[38;5;21;01mpennylane_plugin\u001b[39;00m\u001b[38;5;250m \u001b[39m\u001b[38;5;28;01mimport\u001b[39;00m BraketDevice\n\u001b[1;32m      7\u001b[0m \u001b[38;5;28;01mclass\u001b[39;00m\u001b[38;5;250m \u001b[39m\u001b[38;5;21;01mH2Model\u001b[39;00m:\n\u001b[1;32m      8\u001b[0m     \u001b[38;5;28;01mdef\u001b[39;00m\u001b[38;5;250m \u001b[39m\u001b[38;5;21m__init__\u001b[39m(\u001b[38;5;28mself\u001b[39m, basis\u001b[38;5;241m=\u001b[39m\u001b[38;5;124m\"\u001b[39m\u001b[38;5;124msto-3g\u001b[39m\u001b[38;5;124m\"\u001b[39m, ansatz\u001b[38;5;241m=\u001b[39m\u001b[38;5;124m\"\u001b[39m\u001b[38;5;124mEfficientSU2\u001b[39m\u001b[38;5;124m\"\u001b[39m, backend\u001b[38;5;241m=\u001b[39m\u001b[38;5;124m\"\u001b[39m\u001b[38;5;124mlocal\u001b[39m\u001b[38;5;124m\"\u001b[39m, \n\u001b[1;32m      9\u001b[0m                  shots\u001b[38;5;241m=\u001b[39m\u001b[38;5;241m1000\u001b[39m, optimizer\u001b[38;5;241m=\u001b[39m\u001b[38;5;124m\"\u001b[39m\u001b[38;5;124mCOBYLA\u001b[39m\u001b[38;5;124m\"\u001b[39m, fit\u001b[38;5;241m=\u001b[39m\u001b[38;5;124m\"\u001b[39m\u001b[38;5;124mquadratic\u001b[39m\u001b[38;5;124m\"\u001b[39m, mapper\u001b[38;5;241m=\u001b[39m\u001b[38;5;124m\"\u001b[39m\u001b[38;5;124mJordan-Wigner\u001b[39m\u001b[38;5;124m\"\u001b[39m):\n",
      "\u001b[0;31mImportError\u001b[0m: cannot import name 'BraketDevice' from 'braket.pennylane_plugin' (/Users/avilamrs/Repositories/Artigo/Clifford_ZNE_artigo/venv01/lib/python3.13/site-packages/braket/pennylane_plugin/__init__.py)"
     ]
    }
   ],
   "source": [
    "import os\n",
    "import numpy as np\n",
    "import pennylane as qml\n",
    "from braket.aws import AwsDevice\n",
    "from braket.pennylane_plugin import BraketDevice\n",
    "\n",
    "class H2Model:\n",
    "    def __init__(self, basis=\"sto-3g\", ansatz=\"EfficientSU2\", backend=\"local\", \n",
    "                 shots=1000, optimizer=\"COBYLA\", fit=\"quadratic\", mapper=\"Jordan-Wigner\"):\n",
    "        self.basis = basis\n",
    "        self.ansatz = ansatz\n",
    "        self.backend = backend\n",
    "        self.shots = shots\n",
    "        self.optimizer = optimizer\n",
    "        self.fit = fit\n",
    "        self.mapper = mapper\n",
    "        self.device = self.setup_device()\n",
    "        self.H = self.generate_hamiltonian()\n",
    "\n",
    "    def setup_device(self):\n",
    "        if self.backend == \"aws\":\n",
    "            return BraketDevice(\"arn:aws:braket:::device/qpu/ionq/ionQdevice\")\n",
    "        else:\n",
    "            return qml.device(\"default.qubit\", wires=4)\n",
    "\n",
    "    def generate_hamiltonian(self):\n",
    "        coeffs = [-0.242742, 0.177712, 0.177712, 0.122933, 0.122933, 0.167683, 0.167683]\n",
    "        ops = [\n",
    "            qml.Identity(wires=0),\n",
    "            qml.PauliZ(wires=0) @ qml.PauliZ(wires=1),\n",
    "            qml.PauliZ(wires=0) @ qml.PauliZ(wires=2),\n",
    "            qml.PauliZ(wires=0) @ qml.PauliZ(wires=3),\n",
    "            qml.PauliZ(wires=1) @ qml.PauliZ(wires=2),\n",
    "            qml.PauliZ(wires=1) @ qml.PauliZ(wires=3),\n",
    "            qml.PauliZ(wires=2) @ qml.PauliZ(wires=3)\n",
    "        ]\n",
    "        return qml.Hamiltonian(coeffs, ops)\n",
    "\n",
    "    def run_vqe(self):\n",
    "        @qml.qnode(self.device)\n",
    "        def circuit(params):\n",
    "            qml.BasisState(np.array([1, 1, 0, 0]), wires=[0, 1, 2, 3])\n",
    "            qml.RY(params[0], wires=0)\n",
    "            qml.RY(params[1], wires=1)\n",
    "            qml.RY(params[2], wires=2)\n",
    "            qml.RY(params[3], wires=3)\n",
    "            qml.CNOT(wires=[0, 1])\n",
    "            qml.CNOT(wires=[1, 2])\n",
    "            qml.CNOT(wires=[2, 3])\n",
    "            return qml.expval(self.H)\n",
    "        \n",
    "        opt = qml.GradientDescentOptimizer(stepsize=0.4)\n",
    "        params = np.random.randn(4, requires_grad=True)\n",
    "        for i in range(100):\n",
    "            params = opt.step(lambda p: circuit(p), params)\n",
    "            energy = circuit(params)\n",
    "            if i % 10 == 0:\n",
    "                print(f\"Step {i}: Energy = {energy}\")\n",
    "        return energy"
   ]
  },
  {
   "cell_type": "code",
   "execution_count": 21,
   "id": "015285ac-c62b-427c-9f82-8bb5dbc43c93",
   "metadata": {},
   "outputs": [
    {
     "ename": "ImportError",
     "evalue": "cannot import name 'BraketDevice' from 'braket.pennylane_plugin' (/Users/avilamrs/Repositories/Artigo/Clifford_ZNE_artigo/venv01/lib/python3.13/site-packages/braket/pennylane_plugin/__init__.py)",
     "output_type": "error",
     "traceback": [
      "\u001b[0;31m---------------------------------------------------------------------------\u001b[0m",
      "\u001b[0;31mImportError\u001b[0m                               Traceback (most recent call last)",
      "Cell \u001b[0;32mIn[21], line 5\u001b[0m\n\u001b[1;32m      3\u001b[0m \u001b[38;5;28;01mimport\u001b[39;00m\u001b[38;5;250m \u001b[39m\u001b[38;5;21;01mpennylane\u001b[39;00m\u001b[38;5;250m \u001b[39m\u001b[38;5;28;01mas\u001b[39;00m\u001b[38;5;250m \u001b[39m\u001b[38;5;21;01mqml\u001b[39;00m\n\u001b[1;32m      4\u001b[0m \u001b[38;5;28;01mfrom\u001b[39;00m\u001b[38;5;250m \u001b[39m\u001b[38;5;21;01mbraket\u001b[39;00m\u001b[38;5;21;01m.\u001b[39;00m\u001b[38;5;21;01maws\u001b[39;00m\u001b[38;5;250m \u001b[39m\u001b[38;5;28;01mimport\u001b[39;00m AwsDevice\n\u001b[0;32m----> 5\u001b[0m \u001b[38;5;28;01mfrom\u001b[39;00m\u001b[38;5;250m \u001b[39m\u001b[38;5;21;01mbraket\u001b[39;00m\u001b[38;5;21;01m.\u001b[39;00m\u001b[38;5;21;01mpennylane_plugin\u001b[39;00m\u001b[38;5;250m \u001b[39m\u001b[38;5;28;01mimport\u001b[39;00m BraketDevice\n\u001b[1;32m      7\u001b[0m \u001b[38;5;28;01mclass\u001b[39;00m\u001b[38;5;250m \u001b[39m\u001b[38;5;21;01mH2Model\u001b[39;00m:\n\u001b[1;32m      8\u001b[0m     \u001b[38;5;28;01mdef\u001b[39;00m\u001b[38;5;250m \u001b[39m\u001b[38;5;21m__init__\u001b[39m(\u001b[38;5;28mself\u001b[39m, basis\u001b[38;5;241m=\u001b[39m\u001b[38;5;124m\"\u001b[39m\u001b[38;5;124msto-3g\u001b[39m\u001b[38;5;124m\"\u001b[39m, ansatz\u001b[38;5;241m=\u001b[39m\u001b[38;5;124m\"\u001b[39m\u001b[38;5;124mEfficientSU2\u001b[39m\u001b[38;5;124m\"\u001b[39m, backend\u001b[38;5;241m=\u001b[39m\u001b[38;5;124m\"\u001b[39m\u001b[38;5;124mlocal\u001b[39m\u001b[38;5;124m\"\u001b[39m, \n\u001b[1;32m      9\u001b[0m                  shots\u001b[38;5;241m=\u001b[39m\u001b[38;5;241m1000\u001b[39m, optimizer\u001b[38;5;241m=\u001b[39m\u001b[38;5;124m\"\u001b[39m\u001b[38;5;124mCOBYLA\u001b[39m\u001b[38;5;124m\"\u001b[39m, fit\u001b[38;5;241m=\u001b[39m\u001b[38;5;124m\"\u001b[39m\u001b[38;5;124mquadratic\u001b[39m\u001b[38;5;124m\"\u001b[39m, mapper\u001b[38;5;241m=\u001b[39m\u001b[38;5;124m\"\u001b[39m\u001b[38;5;124mJordan-Wigner\u001b[39m\u001b[38;5;124m\"\u001b[39m):\n",
      "\u001b[0;31mImportError\u001b[0m: cannot import name 'BraketDevice' from 'braket.pennylane_plugin' (/Users/avilamrs/Repositories/Artigo/Clifford_ZNE_artigo/venv01/lib/python3.13/site-packages/braket/pennylane_plugin/__init__.py)"
     ]
    }
   ],
   "source": [
    "import os\n",
    "import numpy as np\n",
    "import pennylane as qml\n",
    "from braket.aws import AwsDevice\n",
    "from braket.pennylane_plugin import BraketDevice\n",
    "\n",
    "class H2Model:\n",
    "    def __init__(self, basis=\"sto-3g\", ansatz=\"EfficientSU2\", backend=\"local\", \n",
    "                 shots=1000, optimizer=\"COBYLA\", fit=\"quadratic\", mapper=\"Jordan-Wigner\"):\n",
    "        self.basis = basis\n",
    "        self.ansatz = ansatz\n",
    "        self.backend = backend\n",
    "        self.shots = shots\n",
    "        self.optimizer = optimizer\n",
    "        self.fit = fit\n",
    "        self.mapper = mapper\n",
    "        self.device = self.setup_device()\n",
    "        self.H = self.generate_hamiltonian()\n",
    "\n",
    "    def setup_device(self):\n",
    "        if self.backend == \"aws\":\n",
    "            return BraketDevice(\"arn:aws:braket:::device/qpu/ionq/ionQdevice\")\n",
    "        else:\n",
    "            return qml.device(\"default.qubit\", wires=4)\n",
    "\n",
    "    def generate_hamiltonian(self):\n",
    "        coeffs = [-0.242742, 0.177712, 0.177712, 0.122933, 0.122933, 0.167683, 0.167683]\n",
    "        ops = [\n",
    "            qml.Identity(wires=0),\n",
    "            qml.PauliZ(wires=0) @ qml.PauliZ(wires=1),\n",
    "            qml.PauliZ(wires=0) @ qml.PauliZ(wires=2),\n",
    "            qml.PauliZ(wires=0) @ qml.PauliZ(wires=3),\n",
    "            qml.PauliZ(wires=1) @ qml.PauliZ(wires=2),\n",
    "            qml.PauliZ(wires=1) @ qml.PauliZ(wires=3),\n",
    "            qml.PauliZ(wires=2) @ qml.PauliZ(wires=3)\n",
    "        ]\n",
    "        return qml.Hamiltonian(coeffs, ops)\n",
    "\n",
    "    def get_optimizer(self):\n",
    "        optimizers = {\n",
    "            \"GradientDescent\": qml.GradientDescentOptimizer(stepsize=0.4),\n",
    "            \"COBYLA\": qml.optimize.COBYLAOptimizer(),\n",
    "            \"Adam\": qml.AdamOptimizer(stepsize=0.1),\n",
    "            \"Nelder-Mead\": qml.optimize.NelderMeadOptimizer(),\n",
    "        }\n",
    "        return optimizers.get(self.optimizer, qml.GradientDescentOptimizer(stepsize=0.4))\n",
    "\n",
    "    def run_vqe(self):\n",
    "        @qml.qnode(self.device)\n",
    "        def circuit(params):\n",
    "            qml.BasisState(np.array([1, 1, 0, 0]), wires=[0, 1, 2, 3])\n",
    "            qml.RY(params[0], wires=0)\n",
    "            qml.RY(params[1], wires=1)\n",
    "            qml.RY(params[2], wires=2)\n",
    "            qml.RY(params[3], wires=3)\n",
    "            qml.CNOT(wires=[0, 1])\n",
    "            qml.CNOT(wires=[1, 2])\n",
    "            qml.CNOT(wires=[2, 3])\n",
    "            return qml.expval(self.H)\n",
    "        \n",
    "        opt = self.get_optimizer()\n",
    "        params = np.random.randn(4, requires_grad=True)\n",
    "        for i in range(100):\n",
    "            params = opt.step(lambda p: circuit(p), params)\n",
    "            energy = circuit(params)\n",
    "            if i % 10 == 0:\n",
    "                print(f\"Step {i}: Energy = {energy}\")\n",
    "        return energy\n",
    "\n",
    "# Executar o modelo para H2\n",
    "test_H2 = H2Model(optimizer=\"COBYLA\")\n",
    "energy_H2 = test_H2.run_vqe()\n",
    "print(f\"Energia do estado fundamental do H2: {energy_H2:.6f} Ha\")"
   ]
  },
  {
   "cell_type": "code",
   "execution_count": 15,
   "id": "c087bb15-5d39-4bc8-83d8-7ce208ddbcbc",
   "metadata": {},
   "outputs": [
    {
     "ename": "ModuleNotFoundError",
     "evalue": "No module named 'braket'",
     "output_type": "error",
     "traceback": [
      "\u001b[0;31m---------------------------------------------------------------------------\u001b[0m",
      "\u001b[0;31mModuleNotFoundError\u001b[0m                       Traceback (most recent call last)",
      "Cell \u001b[0;32mIn[15], line 5\u001b[0m\n\u001b[1;32m      3\u001b[0m \u001b[38;5;28;01mimport\u001b[39;00m\u001b[38;5;250m \u001b[39m\u001b[38;5;21;01mpennylane\u001b[39;00m\u001b[38;5;250m \u001b[39m\u001b[38;5;28;01mas\u001b[39;00m\u001b[38;5;250m \u001b[39m\u001b[38;5;21;01mqml\u001b[39;00m\n\u001b[1;32m      4\u001b[0m \u001b[38;5;28;01mfrom\u001b[39;00m\u001b[38;5;250m \u001b[39m\u001b[38;5;21;01mpennylane\u001b[39;00m\u001b[38;5;250m \u001b[39m\u001b[38;5;28;01mimport\u001b[39;00m qchem\n\u001b[0;32m----> 5\u001b[0m \u001b[38;5;28;01mfrom\u001b[39;00m\u001b[38;5;250m \u001b[39m\u001b[38;5;21;01mbraket\u001b[39;00m\u001b[38;5;21;01m.\u001b[39;00m\u001b[38;5;21;01maws\u001b[39;00m\u001b[38;5;250m \u001b[39m\u001b[38;5;28;01mimport\u001b[39;00m AwsDevice\n\u001b[1;32m      6\u001b[0m \u001b[38;5;28;01mfrom\u001b[39;00m\u001b[38;5;250m \u001b[39m\u001b[38;5;21;01mbraket\u001b[39;00m\u001b[38;5;21;01m.\u001b[39;00m\u001b[38;5;21;01mpennylane_plugin\u001b[39;00m\u001b[38;5;250m \u001b[39m\u001b[38;5;28;01mimport\u001b[39;00m BraketDevice\n\u001b[1;32m      8\u001b[0m \u001b[38;5;28;01mclass\u001b[39;00m\u001b[38;5;250m \u001b[39m\u001b[38;5;21;01mH2Model\u001b[39;00m:\n",
      "\u001b[0;31mModuleNotFoundError\u001b[0m: No module named 'braket'"
     ]
    }
   ],
   "source": [
    "import os\n",
    "import numpy as np\n",
    "import pennylane as qml\n",
    "from pennylane import qchem\n",
    "from braket.aws import AwsDevice\n",
    "from braket.pennylane_plugin import BraketDevice\n",
    "\n",
    "class H2Model:\n",
    "    def __init__(self, basis=\"sto-3g\", ansatz=\"EfficientSU2\", backend=\"local\", \n",
    "                 shots=1000, optimizer=\"COBYLA\", fit=\"quadratic\", mapper=\"Jordan-Wigner\", distance=0.735):\n",
    "        \"\"\"\n",
    "        Inicializa o modelo para a molécula de H₂.\n",
    "        \"\"\"\n",
    "        self.basis = basis\n",
    "        self.ansatz = ansatz\n",
    "        self.backend = backend\n",
    "        self.shots = shots\n",
    "        self.optimizer = optimizer\n",
    "        self.fit = fit\n",
    "        self.mapper = mapper\n",
    "        self.distance = distance\n",
    "        self.device = self.setup_device()\n",
    "        self.H, self.qubits = self.generate_hamiltonian()\n",
    "\n",
    "    def setup_device(self):\n",
    "        \"\"\"Define o backend utilizado para a execução da simulação.\"\"\"\n",
    "        if self.backend == \"aws\":\n",
    "            return BraketDevice(\"arn:aws:braket:::device/qpu/ionq/ionQdevice\")\n",
    "        else:\n",
    "            return qml.device(\"default.qubit\", wires=4)\n",
    "\n",
    "    def generate_hamiltonian(self):\n",
    "        \"\"\"Gera o Hamiltoniano da molécula de H₂ com base na distância parametrizada.\"\"\"\n",
    "        symbols = [\"H\", \"H\"]\n",
    "        coordinates = [0.0, 0.0, 0.0, 0.0, 0.0, self.distance]\n",
    "        H, qubits = qchem.molecular_hamiltonian(symbols, coordinates, basis=self.basis)\n",
    "        return H, qubits\n",
    "\n",
    "    def get_optimizer(self):\n",
    "        \"\"\"Seleciona o algoritmo de otimização com base na escolha do usuário.\"\"\"\n",
    "        optimizers = {\n",
    "            \"GradientDescent\": qml.GradientDescentOptimizer(stepsize=0.4),\n",
    "            \"COBYLA\": qml.optimize.COBYLAOptimizer(),\n",
    "            \"Adam\": qml.AdamOptimizer(stepsize=0.1),\n",
    "            \"Nelder-Mead\": qml.optimize.NelderMeadOptimizer(),\n",
    "        }\n",
    "        return optimizers.get(self.optimizer, qml.GradientDescentOptimizer(stepsize=0.4))\n",
    "\n",
    "    def run_vqe(self):\n",
    "        \"\"\"Executa o algoritmo VQE para encontrar a energia do estado fundamental.\"\"\"\n",
    "        @qml.qnode(self.device)\n",
    "        def circuit(params):\n",
    "            qml.BasisState(np.array([1, 1, 0, 0]), wires=range(self.qubits))\n",
    "            qml.RY(params[0], wires=0)\n",
    "            qml.RY(params[1], wires=1)\n",
    "            qml.RY(params[2], wires=2)\n",
    "            qml.RY(params[3], wires=3)\n",
    "            qml.CNOT(wires=[0, 1])\n",
    "            qml.CNOT(wires=[1, 2])\n",
    "            qml.CNOT(wires=[2, 3])\n",
    "            return qml.expval(self.H)\n",
    "        \n",
    "        opt = self.get_optimizer()\n",
    "        params = np.random.randn(self.qubits, requires_grad=True)\n",
    "        for i in range(100):\n",
    "            params = opt.step(lambda p: circuit(p), params)\n",
    "            energy = circuit(params)\n",
    "            if i % 10 == 0:\n",
    "                print(f\"Step {i}: Energy = {energy}\")\n",
    "        return energy\n",
    "\n",
    "# Executar o modelo para H2 com distância parametrizada\n",
    "test_H2 = H2Model(optimizer=\"COBYLA\", distance=0.735)\n",
    "energy_H2 = test_H2.run_vqe()\n",
    "print(f\"Energia do estado fundamental do H2 (d={test_H2.distance} Å): {energy_H2:.6f} Ha\")"
   ]
  },
  {
   "cell_type": "code",
   "execution_count": 8,
   "id": "9d4ebc4e-729d-46b6-9aa7-d034fcb0f564",
   "metadata": {},
   "outputs": [
    {
     "name": "stdout",
     "output_type": "stream",
     "text": [
      "Collecting numpy==1.24.3\n",
      "  Using cached numpy-1.24.3.tar.gz (10.9 MB)\n",
      "  Installing build dependencies ... \u001b[?done\n",
      "\u001b[?25h  Getting requirements to build wheel ... \u001b[?25ldone\n",
      "\u001b[31mERROR: Exception:\n",
      "Traceback (most recent call last):\n",
      "  File \"/Users/avilamrs/Repositories/Artigo/Clifford_ZNE_artigo/venv01/lib/python3.13/site-packages/pip/_internal/cli/base_command.py\", line 106, in _run_wrapper\n",
      "    status = _inner_run()\n",
      "  File \"/Users/avilamrs/Repositories/Artigo/Clifford_ZNE_artigo/venv01/lib/python3.13/site-packages/pip/_internal/cli/base_command.py\", line 97, in _inner_run\n",
      "    return self.run(options, args)\n",
      "           ~~~~~~~~^^^^^^^^^^^^^^^\n",
      "  File \"/Users/avilamrs/Repositories/Artigo/Clifford_ZNE_artigo/venv01/lib/python3.13/site-packages/pip/_internal/cli/req_command.py\", line 67, in wrapper\n",
      "    return func(self, options, args)\n",
      "  File \"/Users/avilamrs/Repositories/Artigo/Clifford_ZNE_artigo/venv01/lib/python3.13/site-packages/pip/_internal/commands/install.py\", line 386, in run\n",
      "    requirement_set = resolver.resolve(\n",
      "        reqs, check_supported_wheels=not options.target_dir\n",
      "    )\n",
      "  File \"/Users/avilamrs/Repositories/Artigo/Clifford_ZNE_artigo/venv01/lib/python3.13/site-packages/pip/_internal/resolution/resolvelib/resolver.py\", line 95, in resolve\n",
      "    result = self._result = resolver.resolve(\n",
      "                            ~~~~~~~~~~~~~~~~^\n",
      "        collected.requirements, max_rounds=limit_how_complex_resolution_can_be\n",
      "        ^^^^^^^^^^^^^^^^^^^^^^^^^^^^^^^^^^^^^^^^^^^^^^^^^^^^^^^^^^^^^^^^^^^^^^\n",
      "    )\n",
      "    ^\n",
      "  File \"/Users/avilamrs/Repositories/Artigo/Clifford_ZNE_artigo/venv01/lib/python3.13/site-packages/pip/_vendor/resolvelib/resolvers.py\", line 546, in resolve\n",
      "    state = resolution.resolve(requirements, max_rounds=max_rounds)\n",
      "  File \"/Users/avilamrs/Repositories/Artigo/Clifford_ZNE_artigo/venv01/lib/python3.13/site-packages/pip/_vendor/resolvelib/resolvers.py\", line 397, in resolve\n",
      "    self._add_to_criteria(self.state.criteria, r, parent=None)\n",
      "    ~~~~~~~~~~~~~~~~~~~~~^^^^^^^^^^^^^^^^^^^^^^^^^^^^^^^^^^^^^\n",
      "  File \"/Users/avilamrs/Repositories/Artigo/Clifford_ZNE_artigo/venv01/lib/python3.13/site-packages/pip/_vendor/resolvelib/resolvers.py\", line 173, in _add_to_criteria\n",
      "    if not criterion.candidates:\n",
      "           ^^^^^^^^^^^^^^^^^^^^\n",
      "  File \"/Users/avilamrs/Repositories/Artigo/Clifford_ZNE_artigo/venv01/lib/python3.13/site-packages/pip/_vendor/resolvelib/structs.py\", line 156, in __bool__\n",
      "    return bool(self._sequence)\n",
      "  File \"/Users/avilamrs/Repositories/Artigo/Clifford_ZNE_artigo/venv01/lib/python3.13/site-packages/pip/_internal/resolution/resolvelib/found_candidates.py\", line 174, in __bool__\n",
      "    return any(self)\n",
      "  File \"/Users/avilamrs/Repositories/Artigo/Clifford_ZNE_artigo/venv01/lib/python3.13/site-packages/pip/_internal/resolution/resolvelib/found_candidates.py\", line 162, in <genexpr>\n",
      "    return (c for c in iterator if id(c) not in self._incompatible_ids)\n",
      "                       ^^^^^^^^\n",
      "  File \"/Users/avilamrs/Repositories/Artigo/Clifford_ZNE_artigo/venv01/lib/python3.13/site-packages/pip/_internal/resolution/resolvelib/found_candidates.py\", line 53, in _iter_built\n",
      "    candidate = func()\n",
      "  File \"/Users/avilamrs/Repositories/Artigo/Clifford_ZNE_artigo/venv01/lib/python3.13/site-packages/pip/_internal/resolution/resolvelib/factory.py\", line 187, in _make_candidate_from_link\n",
      "    base: Optional[BaseCandidate] = self._make_base_candidate_from_link(\n",
      "                                    ~~~~~~~~~~~~~~~~~~~~~~~~~~~~~~~~~~~^\n",
      "        link, template, name, version\n",
      "        ^^^^^^^^^^^^^^^^^^^^^^^^^^^^^\n",
      "    )\n",
      "    ^\n",
      "  File \"/Users/avilamrs/Repositories/Artigo/Clifford_ZNE_artigo/venv01/lib/python3.13/site-packages/pip/_internal/resolution/resolvelib/factory.py\", line 233, in _make_base_candidate_from_link\n",
      "    self._link_candidate_cache[link] = LinkCandidate(\n",
      "                                       ~~~~~~~~~~~~~^\n",
      "        link,\n",
      "        ^^^^^\n",
      "    ...<3 lines>...\n",
      "        version=version,\n",
      "        ^^^^^^^^^^^^^^^^\n",
      "    )\n",
      "    ^\n",
      "  File \"/Users/avilamrs/Repositories/Artigo/Clifford_ZNE_artigo/venv01/lib/python3.13/site-packages/pip/_internal/resolution/resolvelib/candidates.py\", line 304, in __init__\n",
      "    super().__init__(\n",
      "    ~~~~~~~~~~~~~~~~^\n",
      "        link=link,\n",
      "        ^^^^^^^^^^\n",
      "    ...<4 lines>...\n",
      "        version=version,\n",
      "        ^^^^^^^^^^^^^^^^\n",
      "    )\n",
      "    ^\n",
      "  File \"/Users/avilamrs/Repositories/Artigo/Clifford_ZNE_artigo/venv01/lib/python3.13/site-packages/pip/_internal/resolution/resolvelib/candidates.py\", line 159, in __init__\n",
      "    self.dist = self._prepare()\n",
      "                ~~~~~~~~~~~~~^^\n",
      "  File \"/Users/avilamrs/Repositories/Artigo/Clifford_ZNE_artigo/venv01/lib/python3.13/site-packages/pip/_internal/resolution/resolvelib/candidates.py\", line 236, in _prepare\n",
      "    dist = self._prepare_distribution()\n",
      "  File \"/Users/avilamrs/Repositories/Artigo/Clifford_ZNE_artigo/venv01/lib/python3.13/site-packages/pip/_internal/resolution/resolvelib/candidates.py\", line 315, in _prepare_distribution\n",
      "    return preparer.prepare_linked_requirement(self._ireq, parallel_builds=True)\n",
      "           ~~~~~~~~~~~~~~~~~~~~~~~~~~~~~~~~~~~^^^^^^^^^^^^^^^^^^^^^^^^^^^^^^^^^^\n",
      "  File \"/Users/avilamrs/Repositories/Artigo/Clifford_ZNE_artigo/venv01/lib/python3.13/site-packages/pip/_internal/operations/prepare.py\", line 527, in prepare_linked_requirement\n",
      "    return self._prepare_linked_requirement(req, parallel_builds)\n",
      "           ~~~~~~~~~~~~~~~~~~~~~~~~~~~~~~~~^^^^^^^^^^^^^^^^^^^^^^\n",
      "  File \"/Users/avilamrs/Repositories/Artigo/Clifford_ZNE_artigo/venv01/lib/python3.13/site-packages/pip/_internal/operations/prepare.py\", line 642, in _prepare_linked_requirement\n",
      "    dist = _get_prepared_distribution(\n",
      "        req,\n",
      "    ...<3 lines>...\n",
      "        self.check_build_deps,\n",
      "    )\n",
      "  File \"/Users/avilamrs/Repositories/Artigo/Clifford_ZNE_artigo/venv01/lib/python3.13/site-packages/pip/_internal/operations/prepare.py\", line 72, in _get_prepared_distribution\n",
      "    abstract_dist.prepare_distribution_metadata(\n",
      "    ~~~~~~~~~~~~~~~~~~~~~~~~~~~~~~~~~~~~~~~~~~~^\n",
      "        finder, build_isolation, check_build_deps\n",
      "        ^^^^^^^^^^^^^^^^^^^^^^^^^^^^^^^^^^^^^^^^^\n",
      "    )\n",
      "    ^\n",
      "  File \"/Users/avilamrs/Repositories/Artigo/Clifford_ZNE_artigo/venv01/lib/python3.13/site-packages/pip/_internal/distributions/sdist.py\", line 56, in prepare_distribution_metadata\n",
      "    self._install_build_reqs(finder)\n",
      "    ~~~~~~~~~~~~~~~~~~~~~~~~^^^^^^^^\n",
      "  File \"/Users/avilamrs/Repositories/Artigo/Clifford_ZNE_artigo/venv01/lib/python3.13/site-packages/pip/_internal/distributions/sdist.py\", line 126, in _install_build_reqs\n",
      "    build_reqs = self._get_build_requires_wheel()\n",
      "  File \"/Users/avilamrs/Repositories/Artigo/Clifford_ZNE_artigo/venv01/lib/python3.13/site-packages/pip/_internal/distributions/sdist.py\", line 103, in _get_build_requires_wheel\n",
      "    return backend.get_requires_for_build_wheel()\n",
      "           ~~~~~~~~~~~~~~~~~~~~~~~~~~~~~~~~~~~~^^\n",
      "  File \"/Users/avilamrs/Repositories/Artigo/Clifford_ZNE_artigo/venv01/lib/python3.13/site-packages/pip/_internal/utils/misc.py\", line 702, in get_requires_for_build_wheel\n",
      "    return super().get_requires_for_build_wheel(config_settings=cs)\n",
      "           ~~~~~~~~~~~~~~~~~~~~~~~~~~~~~~~~~~~~^^^^^^^^^^^^^^^^^^^^\n",
      "  File \"/Users/avilamrs/Repositories/Artigo/Clifford_ZNE_artigo/venv01/lib/python3.13/site-packages/pip/_vendor/pyproject_hooks/_impl.py\", line 196, in get_requires_for_build_wheel\n",
      "    return self._call_hook(\n",
      "           ~~~~~~~~~~~~~~~^\n",
      "        \"get_requires_for_build_wheel\", {\"config_settings\": config_settings}\n",
      "        ^^^^^^^^^^^^^^^^^^^^^^^^^^^^^^^^^^^^^^^^^^^^^^^^^^^^^^^^^^^^^^^^^^^^\n",
      "    )\n",
      "    ^\n",
      "  File \"/Users/avilamrs/Repositories/Artigo/Clifford_ZNE_artigo/venv01/lib/python3.13/site-packages/pip/_vendor/pyproject_hooks/_impl.py\", line 402, in _call_hook\n",
      "    raise BackendUnavailable(\n",
      "    ...<4 lines>...\n",
      "    )\n",
      "pip._vendor.pyproject_hooks._impl.BackendUnavailable: Cannot import 'setuptools.build_meta'\u001b[0m\u001b[31m\n",
      "\u001b[?25h"
     ]
    }
   ],
   "source": [
    "!pip install numpy==1.24.3\n"
   ]
  },
  {
   "cell_type": "code",
   "execution_count": 7,
   "id": "8e589c08-334b-4ae6-ba6d-e7ed7fa9ef7e",
   "metadata": {},
   "outputs": [
    {
     "name": "stdout",
     "output_type": "stream",
     "text": [
      "Found existing installation: numpy 2.2.3\n",
      "Uninstalling numpy-2.2.3:\n",
      "  Successfully uninstalled numpy-2.2.3\n"
     ]
    }
   ],
   "source": [
    "!pip uninstall numpy -y\n"
   ]
  },
  {
   "cell_type": "code",
   "execution_count": null,
   "id": "70923b69-0938-46ec-8b79-f1835965e11d",
   "metadata": {},
   "outputs": [],
   "source": []
  }
 ],
 "metadata": {
  "kernelspec": {
   "display_name": "Python3 (venv01)",
   "language": "python",
   "name": "venv01"
  },
  "language_info": {
   "codemirror_mode": {
    "name": "ipython",
    "version": 3
   },
   "file_extension": ".py",
   "mimetype": "text/x-python",
   "name": "python",
   "nbconvert_exporter": "python",
   "pygments_lexer": "ipython3",
   "version": "3.13.1"
  }
 },
 "nbformat": 4,
 "nbformat_minor": 5
}
