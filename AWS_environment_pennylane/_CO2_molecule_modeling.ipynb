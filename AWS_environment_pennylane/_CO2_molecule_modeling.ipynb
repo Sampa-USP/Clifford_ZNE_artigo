{
 "cells": [
  {
   "cell_type": "code",
   "execution_count": 1,
   "id": "c7954045-4954-4af5-97d2-745350a67400",
   "metadata": {},
   "outputs": [],
   "source": [
    "\n",
    "def h2_circuit(x):\n",
    "    \"\"\"\n",
    "    Exemplo de função: retorna o dobro do valor de x.\n",
    "    \"\"\"\n",
    "    return 2 * x\n"
   ]
  }
 ],
 "metadata": {
  "kernelspec": {
   "display_name": "Python3 (venv01)",
   "language": "python",
   "name": "venv01"
  },
  "language_info": {
   "codemirror_mode": {
    "name": "ipython",
    "version": 3
   },
   "file_extension": ".py",
   "mimetype": "text/x-python",
   "name": "python",
   "nbconvert_exporter": "python",
   "pygments_lexer": "ipython3",
   "version": "3.13.1"
  }
 },
 "nbformat": 4,
 "nbformat_minor": 5
}
