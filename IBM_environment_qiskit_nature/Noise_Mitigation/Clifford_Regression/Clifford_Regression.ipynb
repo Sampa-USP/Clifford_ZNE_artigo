{
 "cells": [
  {
   "cell_type": "markdown",
   "id": "620ca093-3e7f-4cc6-8f77-f98a3ea9eef9",
   "metadata": {},
   "source": [
    "<div class=\"alert alert-block alert-warning\">\n",
    "<b>Costs:</b> This QPU simulation costs [???] dollars.\n",
    "</div>"
   ]
  },
  {
   "cell_type": "markdown",
   "id": "9f2bfbeb-736d-4dc2-b867-ddecb986bfcf",
   "metadata": {},
   "source": [
    "<div class=\"alert alert-block alert-success\">\n",
    "<b>This simulation applies the Clifford Regression (CR) method to mitigate noise in quantum circuits.</b>\n",
    "<div>Obs. 1: The data is saved in external files so that it can be worked on without incurring new costs.</div>\n",
    "<div>Obs. 2: For new simulation parameters, save in a file with a different name.</div>\n"
   ]
  },
  {
   "cell_type": "code",
   "execution_count": null,
   "id": "0e596a88-443c-4db8-9c1c-8d9e3c700c76",
   "metadata": {},
   "outputs": [],
   "source": []
  }
 ],
 "metadata": {
  "kernelspec": {
   "display_name": "Python-venv",
   "language": "python",
   "name": "python-venv"
  },
  "language_info": {
   "codemirror_mode": {
    "name": "ipython",
    "version": 3
   },
   "file_extension": ".py",
   "mimetype": "text/x-python",
   "name": "python",
   "nbconvert_exporter": "python",
   "pygments_lexer": "ipython3",
   "version": "3.13.1"
  }
 },
 "nbformat": 4,
 "nbformat_minor": 5
}
